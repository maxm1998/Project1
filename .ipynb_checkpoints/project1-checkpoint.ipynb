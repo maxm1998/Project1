{
 "cells": [
  {
   "cell_type": "code",
   "execution_count": 126,
   "metadata": {},
   "outputs": [],
   "source": [
    "# imports\n",
    "import panel as pn\n",
    "pn.extension('plotly')\n",
    "import plotly.express as px\n",
    "import pandas as pd\n",
    "import hvplot.pandas\n",
    "import matplotlib.pyplot as plt\n",
    "import os\n",
    "from pathlib import Path\n",
    "from dotenv import load_dotenv\n",
    "import seaborn as sns\n",
    "\n",
    "#from datetime import datetime\n",
    "\n",
    "import warnings\n",
    "warnings.filterwarnings('ignore')"
   ]
  },
  {
   "cell_type": "code",
   "execution_count": 159,
   "metadata": {},
   "outputs": [
    {
     "name": "stdout",
     "output_type": "stream",
     "text": [
      "<class 'pandas.core.frame.DataFrame'>\n",
      "Index: 615 entries, 2020-01-22 to 2021-09-27\n",
      "Data columns (total 2 columns):\n",
      " #   Column                   Non-Null Count  Dtype  \n",
      "---  ------                   --------------  -----  \n",
      " 0   World Total Cases        615 non-null    float64\n",
      " 1   World Reproduction Rate  608 non-null    float64\n",
      "dtypes: float64(2)\n",
      "memory usage: 14.4+ KB\n"
     ]
    }
   ],
   "source": [
    "file_path = Path(\"Data\\owid-covid-data-20210928.csv\")\n",
    "file_path\n",
    "covid_data = pd.read_csv(file_path,parse_dates=['date'])\n",
    "covid_data['Date'] = pd.to_datetime(covid_data['date']).dt.date\n",
    "world_data = covid_data[covid_data['iso_code']=='OWID_WRL']\n",
    "world_c19 = world_data[['Date','total_cases','reproduction_rate']]\n",
    "world_c19 = world_c19.rename(columns={'total_cases':'World Total Cases','reproduction_rate':'World Reproduction Rate'}).set_index('Date')\n",
    "world_c19.info()"
   ]
  },
  {
   "cell_type": "code",
   "execution_count": 131,
   "metadata": {},
   "outputs": [
    {
     "name": "stdout",
     "output_type": "stream",
     "text": [
      "<class 'pandas.core.frame.DataFrame'>\n",
      "Index: 5323 entries, 2000-07-17 to 2021-06-09\n",
      "Data columns (total 1 columns):\n",
      " #   Column       Non-Null Count  Dtype  \n",
      "---  ------       --------------  -----  \n",
      " 0   Sugar Close  5194 non-null   float64\n",
      "dtypes: float64(1)\n",
      "memory usage: 83.2+ KB\n"
     ]
    }
   ],
   "source": [
    "file_path = Path(\"Data\\Lumber.csv\")\n",
    "sugar_data = pd.read_csv(file_path)\n",
    "sugar_data['Date'] = pd.to_datetime(sugar_data['Date']).dt.date\n",
    "sugar = sugar_data[['Date', 'Close']].set_index('Date')\n",
    "sugar = sugar.rename(columns={'Close':'Sugar Close'})\n",
    "sugar.info()\n",
    "#sddr = sugar_data.pct_change()"
   ]
  },
  {
   "cell_type": "code",
   "execution_count": 118,
   "metadata": {},
   "outputs": [
    {
     "name": "stdout",
     "output_type": "stream",
     "text": [
      "<class 'pandas.core.frame.DataFrame'>\n",
      "Index: 8035 entries, 1990-01-02 to 2021-09-24\n",
      "Data columns (total 1 columns):\n",
      " #   Column     Non-Null Count  Dtype  \n",
      "---  ------     --------------  -----  \n",
      " 0   DJI Close  8035 non-null   float64\n",
      "dtypes: float64(1)\n",
      "memory usage: 125.5+ KB\n"
     ]
    }
   ],
   "source": [
    "file_path = Path(\"Data\\DOWJONES - DJI.csv\")\n",
    "dji = pd.read_csv(file_path, parse_dates=['Date'])\n",
    "dji['Date'] = pd.to_datetime(dji['Date']).dt.date\n",
    "dji = dji[['Date', 'Close']].set_index('Date')\n",
    "dji = dji.rename(columns={'Close':'DJI Close'})\n",
    "dji.info()\n",
    "#sddr = sugar_data.pct_change()"
   ]
  },
  {
   "cell_type": "code",
   "execution_count": 87,
   "metadata": {},
   "outputs": [
    {
     "data": {
      "text/html": [
       "<div>\n",
       "<style scoped>\n",
       "    .dataframe tbody tr th:only-of-type {\n",
       "        vertical-align: middle;\n",
       "    }\n",
       "\n",
       "    .dataframe tbody tr th {\n",
       "        vertical-align: top;\n",
       "    }\n",
       "\n",
       "    .dataframe thead th {\n",
       "        text-align: right;\n",
       "    }\n",
       "</style>\n",
       "<table border=\"1\" class=\"dataframe\">\n",
       "  <thead>\n",
       "    <tr style=\"text-align: right;\">\n",
       "      <th></th>\n",
       "      <th>Brent Crude Oil Close</th>\n",
       "    </tr>\n",
       "    <tr>\n",
       "      <th>Date</th>\n",
       "      <th></th>\n",
       "    </tr>\n",
       "  </thead>\n",
       "  <tbody>\n",
       "    <tr>\n",
       "      <th>2007-07-30</th>\n",
       "      <td>75.739998</td>\n",
       "    </tr>\n",
       "    <tr>\n",
       "      <th>2007-07-31</th>\n",
       "      <td>77.050003</td>\n",
       "    </tr>\n",
       "    <tr>\n",
       "      <th>2007-08-01</th>\n",
       "      <td>75.349998</td>\n",
       "    </tr>\n",
       "    <tr>\n",
       "      <th>2007-08-02</th>\n",
       "      <td>75.760002</td>\n",
       "    </tr>\n",
       "    <tr>\n",
       "      <th>2007-08-03</th>\n",
       "      <td>74.750000</td>\n",
       "    </tr>\n",
       "    <tr>\n",
       "      <th>...</th>\n",
       "      <td>...</td>\n",
       "    </tr>\n",
       "    <tr>\n",
       "      <th>2021-06-03</th>\n",
       "      <td>71.309998</td>\n",
       "    </tr>\n",
       "    <tr>\n",
       "      <th>2021-06-04</th>\n",
       "      <td>71.889999</td>\n",
       "    </tr>\n",
       "    <tr>\n",
       "      <th>2021-06-07</th>\n",
       "      <td>71.489998</td>\n",
       "    </tr>\n",
       "    <tr>\n",
       "      <th>2021-06-08</th>\n",
       "      <td>72.220001</td>\n",
       "    </tr>\n",
       "    <tr>\n",
       "      <th>2021-06-09</th>\n",
       "      <td>72.220001</td>\n",
       "    </tr>\n",
       "  </tbody>\n",
       "</table>\n",
       "<p>3492 rows × 1 columns</p>\n",
       "</div>"
      ],
      "text/plain": [
       "            Brent Crude Oil Close\n",
       "Date                             \n",
       "2007-07-30              75.739998\n",
       "2007-07-31              77.050003\n",
       "2007-08-01              75.349998\n",
       "2007-08-02              75.760002\n",
       "2007-08-03              74.750000\n",
       "...                           ...\n",
       "2021-06-03              71.309998\n",
       "2021-06-04              71.889999\n",
       "2021-06-07              71.489998\n",
       "2021-06-08              72.220001\n",
       "2021-06-09              72.220001\n",
       "\n",
       "[3492 rows x 1 columns]"
      ]
     },
     "execution_count": 87,
     "metadata": {},
     "output_type": "execute_result"
    }
   ],
   "source": [
    "file_path = Path(\"Data\\Brent Crude Oil.csv\")\n",
    "brent = pd.read_csv(file_path, parse_dates=['Date'])\n",
    "brent['Date'] = pd.to_datetime(brent['Date']).dt.date\n",
    "brent = brent[['Date', 'Close']].set_index('Date')\n",
    "brent = brent.rename(columns={'Close':'Brent Crude Oil Close'})\n",
    "brent"
   ]
  },
  {
   "cell_type": "code",
   "execution_count": 86,
   "metadata": {},
   "outputs": [
    {
     "data": {
      "text/html": [
       "<div>\n",
       "<style scoped>\n",
       "    .dataframe tbody tr th:only-of-type {\n",
       "        vertical-align: middle;\n",
       "    }\n",
       "\n",
       "    .dataframe tbody tr th {\n",
       "        vertical-align: top;\n",
       "    }\n",
       "\n",
       "    .dataframe thead th {\n",
       "        text-align: right;\n",
       "    }\n",
       "</style>\n",
       "<table border=\"1\" class=\"dataframe\">\n",
       "  <thead>\n",
       "    <tr style=\"text-align: right;\">\n",
       "      <th></th>\n",
       "      <th>Nikkei 225 Close</th>\n",
       "    </tr>\n",
       "    <tr>\n",
       "      <th>Date</th>\n",
       "      <th></th>\n",
       "    </tr>\n",
       "  </thead>\n",
       "  <tbody>\n",
       "    <tr>\n",
       "      <th>1990-01-04</th>\n",
       "      <td>38712.878906</td>\n",
       "    </tr>\n",
       "    <tr>\n",
       "      <th>1990-01-05</th>\n",
       "      <td>38274.761719</td>\n",
       "    </tr>\n",
       "    <tr>\n",
       "      <th>1990-01-08</th>\n",
       "      <td>38294.960938</td>\n",
       "    </tr>\n",
       "    <tr>\n",
       "      <th>1990-01-09</th>\n",
       "      <td>37951.460938</td>\n",
       "    </tr>\n",
       "    <tr>\n",
       "      <th>1990-01-10</th>\n",
       "      <td>37696.511719</td>\n",
       "    </tr>\n",
       "    <tr>\n",
       "      <th>...</th>\n",
       "      <td>...</td>\n",
       "    </tr>\n",
       "    <tr>\n",
       "      <th>2021-09-21</th>\n",
       "      <td>29839.710938</td>\n",
       "    </tr>\n",
       "    <tr>\n",
       "      <th>2021-09-22</th>\n",
       "      <td>29639.400391</td>\n",
       "    </tr>\n",
       "    <tr>\n",
       "      <th>2021-09-24</th>\n",
       "      <td>30248.810547</td>\n",
       "    </tr>\n",
       "    <tr>\n",
       "      <th>2021-09-27</th>\n",
       "      <td>30240.060547</td>\n",
       "    </tr>\n",
       "    <tr>\n",
       "      <th>2021-09-28</th>\n",
       "      <td>30183.960938</td>\n",
       "    </tr>\n",
       "  </tbody>\n",
       "</table>\n",
       "<p>8056 rows × 1 columns</p>\n",
       "</div>"
      ],
      "text/plain": [
       "            Nikkei 225 Close\n",
       "Date                        \n",
       "1990-01-04      38712.878906\n",
       "1990-01-05      38274.761719\n",
       "1990-01-08      38294.960938\n",
       "1990-01-09      37951.460938\n",
       "1990-01-10      37696.511719\n",
       "...                      ...\n",
       "2021-09-21      29839.710938\n",
       "2021-09-22      29639.400391\n",
       "2021-09-24      30248.810547\n",
       "2021-09-27      30240.060547\n",
       "2021-09-28      30183.960938\n",
       "\n",
       "[8056 rows x 1 columns]"
      ]
     },
     "execution_count": 86,
     "metadata": {},
     "output_type": "execute_result"
    }
   ],
   "source": [
    "file_path = Path(\"Data\\^N225.csv\")\n",
    "n225 = pd.read_csv(file_path, parse_dates=['Date'])\n",
    "n225['Date'] = pd.to_datetime(n225['Date']).dt.date\n",
    "n225 = n225[['Date', 'Close']].set_index('Date')\n",
    "n225 = n225.rename(columns={'Close':'Nikkei 225 Close'})\n",
    "n225"
   ]
  },
  {
   "cell_type": "code",
   "execution_count": 136,
   "metadata": {},
   "outputs": [
    {
     "data": {
      "text/html": [
       "<div>\n",
       "<style scoped>\n",
       "    .dataframe tbody tr th:only-of-type {\n",
       "        vertical-align: middle;\n",
       "    }\n",
       "\n",
       "    .dataframe tbody tr th {\n",
       "        vertical-align: top;\n",
       "    }\n",
       "\n",
       "    .dataframe thead th {\n",
       "        text-align: right;\n",
       "    }\n",
       "</style>\n",
       "<table border=\"1\" class=\"dataframe\">\n",
       "  <thead>\n",
       "    <tr style=\"text-align: right;\">\n",
       "      <th></th>\n",
       "      <th>Gold Close</th>\n",
       "    </tr>\n",
       "    <tr>\n",
       "      <th>Date</th>\n",
       "      <th></th>\n",
       "    </tr>\n",
       "  </thead>\n",
       "  <tbody>\n",
       "    <tr>\n",
       "      <th>2000-08-30</th>\n",
       "      <td>273.899994</td>\n",
       "    </tr>\n",
       "    <tr>\n",
       "      <th>2000-08-31</th>\n",
       "      <td>278.299988</td>\n",
       "    </tr>\n",
       "    <tr>\n",
       "      <th>2000-09-01</th>\n",
       "      <td>277.000000</td>\n",
       "    </tr>\n",
       "    <tr>\n",
       "      <th>2000-09-04</th>\n",
       "      <td>NaN</td>\n",
       "    </tr>\n",
       "    <tr>\n",
       "      <th>2000-09-05</th>\n",
       "      <td>275.799988</td>\n",
       "    </tr>\n",
       "    <tr>\n",
       "      <th>...</th>\n",
       "      <td>...</td>\n",
       "    </tr>\n",
       "    <tr>\n",
       "      <th>2021-06-03</th>\n",
       "      <td>1871.199951</td>\n",
       "    </tr>\n",
       "    <tr>\n",
       "      <th>2021-06-04</th>\n",
       "      <td>1889.800049</td>\n",
       "    </tr>\n",
       "    <tr>\n",
       "      <th>2021-06-07</th>\n",
       "      <td>1896.800049</td>\n",
       "    </tr>\n",
       "    <tr>\n",
       "      <th>2021-06-08</th>\n",
       "      <td>1892.199951</td>\n",
       "    </tr>\n",
       "    <tr>\n",
       "      <th>2021-06-09</th>\n",
       "      <td>1893.199951</td>\n",
       "    </tr>\n",
       "  </tbody>\n",
       "</table>\n",
       "<p>5291 rows × 1 columns</p>\n",
       "</div>"
      ],
      "text/plain": [
       "             Gold Close\n",
       "Date                   \n",
       "2000-08-30   273.899994\n",
       "2000-08-31   278.299988\n",
       "2000-09-01   277.000000\n",
       "2000-09-04          NaN\n",
       "2000-09-05   275.799988\n",
       "...                 ...\n",
       "2021-06-03  1871.199951\n",
       "2021-06-04  1889.800049\n",
       "2021-06-07  1896.800049\n",
       "2021-06-08  1892.199951\n",
       "2021-06-09  1893.199951\n",
       "\n",
       "[5291 rows x 1 columns]"
      ]
     },
     "execution_count": 136,
     "metadata": {},
     "output_type": "execute_result"
    }
   ],
   "source": [
    "file_path = Path(\"Data\\Gold.csv\")\n",
    "gold = pd.read_csv(file_path, parse_dates=['Date'])\n",
    "gold['Date'] = pd.to_datetime(gold['Date']).dt.date\n",
    "gold = gold[['Date', 'Close']].set_index('Date')\n",
    "gold = gold.rename(columns={'Close':'Gold Close'})\n",
    "gold"
   ]
  },
  {
   "cell_type": "code",
   "execution_count": 153,
   "metadata": {},
   "outputs": [
    {
     "data": {
      "text/html": [
       "<div>\n",
       "<style scoped>\n",
       "    .dataframe tbody tr th:only-of-type {\n",
       "        vertical-align: middle;\n",
       "    }\n",
       "\n",
       "    .dataframe tbody tr th {\n",
       "        vertical-align: top;\n",
       "    }\n",
       "\n",
       "    .dataframe thead th {\n",
       "        text-align: right;\n",
       "    }\n",
       "</style>\n",
       "<table border=\"1\" class=\"dataframe\">\n",
       "  <thead>\n",
       "    <tr style=\"text-align: right;\">\n",
       "      <th></th>\n",
       "      <th>Nikkei 225 Close</th>\n",
       "      <th>DJI Close</th>\n",
       "      <th>Sugar Close</th>\n",
       "      <th>Gold Close</th>\n",
       "      <th>Brent Crude Oil Close</th>\n",
       "      <th>World Total Cases</th>\n",
       "      <th>World Reproduction Rate</th>\n",
       "    </tr>\n",
       "    <tr>\n",
       "      <th>Date</th>\n",
       "      <th></th>\n",
       "      <th></th>\n",
       "      <th></th>\n",
       "      <th></th>\n",
       "      <th></th>\n",
       "      <th></th>\n",
       "      <th></th>\n",
       "    </tr>\n",
       "  </thead>\n",
       "  <tbody>\n",
       "    <tr>\n",
       "      <th>2020-01-22</th>\n",
       "      <td>24031.349609</td>\n",
       "      <td>29186.27</td>\n",
       "      <td>425.200012</td>\n",
       "      <td>1555.300049</td>\n",
       "      <td>63.209999</td>\n",
       "      <td>557.0</td>\n",
       "      <td>NaN</td>\n",
       "    </tr>\n",
       "    <tr>\n",
       "      <th>2020-01-23</th>\n",
       "      <td>23795.439453</td>\n",
       "      <td>29160.09</td>\n",
       "      <td>426.000000</td>\n",
       "      <td>1564.599976</td>\n",
       "      <td>62.040001</td>\n",
       "      <td>655.0</td>\n",
       "      <td>3.11</td>\n",
       "    </tr>\n",
       "    <tr>\n",
       "      <th>2020-01-24</th>\n",
       "      <td>23827.179688</td>\n",
       "      <td>28989.73</td>\n",
       "      <td>426.200012</td>\n",
       "      <td>1571.099976</td>\n",
       "      <td>60.689999</td>\n",
       "      <td>941.0</td>\n",
       "      <td>3.28</td>\n",
       "    </tr>\n",
       "    <tr>\n",
       "      <th>2020-01-27</th>\n",
       "      <td>23343.509766</td>\n",
       "      <td>28535.80</td>\n",
       "      <td>420.799988</td>\n",
       "      <td>1576.800049</td>\n",
       "      <td>59.320000</td>\n",
       "      <td>2927.0</td>\n",
       "      <td>3.54</td>\n",
       "    </tr>\n",
       "    <tr>\n",
       "      <th>2020-01-28</th>\n",
       "      <td>23215.710938</td>\n",
       "      <td>28722.85</td>\n",
       "      <td>427.100006</td>\n",
       "      <td>1569.199951</td>\n",
       "      <td>59.509998</td>\n",
       "      <td>5578.0</td>\n",
       "      <td>3.53</td>\n",
       "    </tr>\n",
       "    <tr>\n",
       "      <th>...</th>\n",
       "      <td>...</td>\n",
       "      <td>...</td>\n",
       "      <td>...</td>\n",
       "      <td>...</td>\n",
       "      <td>...</td>\n",
       "      <td>...</td>\n",
       "      <td>...</td>\n",
       "    </tr>\n",
       "    <tr>\n",
       "      <th>2021-06-03</th>\n",
       "      <td>29058.109375</td>\n",
       "      <td>34577.04</td>\n",
       "      <td>1326.199951</td>\n",
       "      <td>1871.199951</td>\n",
       "      <td>71.309998</td>\n",
       "      <td>172224471.0</td>\n",
       "      <td>0.86</td>\n",
       "    </tr>\n",
       "    <tr>\n",
       "      <th>2021-06-04</th>\n",
       "      <td>28941.519531</td>\n",
       "      <td>34756.39</td>\n",
       "      <td>1284.199951</td>\n",
       "      <td>1889.800049</td>\n",
       "      <td>71.889999</td>\n",
       "      <td>172643866.0</td>\n",
       "      <td>0.86</td>\n",
       "    </tr>\n",
       "    <tr>\n",
       "      <th>2021-06-07</th>\n",
       "      <td>29019.240234</td>\n",
       "      <td>34630.24</td>\n",
       "      <td>1221.199951</td>\n",
       "      <td>1896.800049</td>\n",
       "      <td>71.489998</td>\n",
       "      <td>173686530.0</td>\n",
       "      <td>0.87</td>\n",
       "    </tr>\n",
       "    <tr>\n",
       "      <th>2021-06-08</th>\n",
       "      <td>28963.560547</td>\n",
       "      <td>34599.82</td>\n",
       "      <td>1167.000000</td>\n",
       "      <td>1892.199951</td>\n",
       "      <td>72.220001</td>\n",
       "      <td>174053342.0</td>\n",
       "      <td>0.87</td>\n",
       "    </tr>\n",
       "    <tr>\n",
       "      <th>2021-06-09</th>\n",
       "      <td>28860.800781</td>\n",
       "      <td>34447.14</td>\n",
       "      <td>1164.199951</td>\n",
       "      <td>1893.199951</td>\n",
       "      <td>72.220001</td>\n",
       "      <td>174473126.0</td>\n",
       "      <td>0.88</td>\n",
       "    </tr>\n",
       "  </tbody>\n",
       "</table>\n",
       "<p>326 rows × 7 columns</p>\n",
       "</div>"
      ],
      "text/plain": [
       "            Nikkei 225 Close  DJI Close  Sugar Close   Gold Close  \\\n",
       "Date                                                                \n",
       "2020-01-22      24031.349609   29186.27   425.200012  1555.300049   \n",
       "2020-01-23      23795.439453   29160.09   426.000000  1564.599976   \n",
       "2020-01-24      23827.179688   28989.73   426.200012  1571.099976   \n",
       "2020-01-27      23343.509766   28535.80   420.799988  1576.800049   \n",
       "2020-01-28      23215.710938   28722.85   427.100006  1569.199951   \n",
       "...                      ...        ...          ...          ...   \n",
       "2021-06-03      29058.109375   34577.04  1326.199951  1871.199951   \n",
       "2021-06-04      28941.519531   34756.39  1284.199951  1889.800049   \n",
       "2021-06-07      29019.240234   34630.24  1221.199951  1896.800049   \n",
       "2021-06-08      28963.560547   34599.82  1167.000000  1892.199951   \n",
       "2021-06-09      28860.800781   34447.14  1164.199951  1893.199951   \n",
       "\n",
       "            Brent Crude Oil Close  World Total Cases  World Reproduction Rate  \n",
       "Date                                                                           \n",
       "2020-01-22              63.209999              557.0                      NaN  \n",
       "2020-01-23              62.040001              655.0                     3.11  \n",
       "2020-01-24              60.689999              941.0                     3.28  \n",
       "2020-01-27              59.320000             2927.0                     3.54  \n",
       "2020-01-28              59.509998             5578.0                     3.53  \n",
       "...                           ...                ...                      ...  \n",
       "2021-06-03              71.309998        172224471.0                     0.86  \n",
       "2021-06-04              71.889999        172643866.0                     0.86  \n",
       "2021-06-07              71.489998        173686530.0                     0.87  \n",
       "2021-06-08              72.220001        174053342.0                     0.87  \n",
       "2021-06-09              72.220001        174473126.0                     0.88  \n",
       "\n",
       "[326 rows x 7 columns]"
      ]
     },
     "execution_count": 153,
     "metadata": {},
     "output_type": "execute_result"
    }
   ],
   "source": [
    "combined_df = pd.concat([n225, dji, sugar, gold, brent, world_c19], axis=\"columns\", join=\"inner\")\n",
    "combined_df"
   ]
  },
  {
   "cell_type": "code",
   "execution_count": 154,
   "metadata": {},
   "outputs": [
    {
     "data": {
      "text/html": [
       "<div>\n",
       "<style scoped>\n",
       "    .dataframe tbody tr th:only-of-type {\n",
       "        vertical-align: middle;\n",
       "    }\n",
       "\n",
       "    .dataframe tbody tr th {\n",
       "        vertical-align: top;\n",
       "    }\n",
       "\n",
       "    .dataframe thead th {\n",
       "        text-align: right;\n",
       "    }\n",
       "</style>\n",
       "<table border=\"1\" class=\"dataframe\">\n",
       "  <thead>\n",
       "    <tr style=\"text-align: right;\">\n",
       "      <th></th>\n",
       "      <th>Nikkei 225 Close</th>\n",
       "      <th>DJI Close</th>\n",
       "      <th>Sugar Close</th>\n",
       "      <th>Gold Close</th>\n",
       "      <th>Brent Crude Oil Close</th>\n",
       "      <th>World Total Cases</th>\n",
       "      <th>World Reproduction Rate</th>\n",
       "    </tr>\n",
       "    <tr>\n",
       "      <th>Date</th>\n",
       "      <th></th>\n",
       "      <th></th>\n",
       "      <th></th>\n",
       "      <th></th>\n",
       "      <th></th>\n",
       "      <th></th>\n",
       "      <th></th>\n",
       "    </tr>\n",
       "  </thead>\n",
       "  <tbody>\n",
       "    <tr>\n",
       "      <th>2020-01-24</th>\n",
       "      <td>0.001334</td>\n",
       "      <td>-0.005842</td>\n",
       "      <td>0.000470</td>\n",
       "      <td>0.004154</td>\n",
       "      <td>-0.021760</td>\n",
       "      <td>0.436641</td>\n",
       "      <td>0.054662</td>\n",
       "    </tr>\n",
       "    <tr>\n",
       "      <th>2020-01-27</th>\n",
       "      <td>-0.020299</td>\n",
       "      <td>-0.015658</td>\n",
       "      <td>-0.012670</td>\n",
       "      <td>0.003628</td>\n",
       "      <td>-0.022574</td>\n",
       "      <td>2.110521</td>\n",
       "      <td>0.079268</td>\n",
       "    </tr>\n",
       "    <tr>\n",
       "      <th>2020-01-28</th>\n",
       "      <td>-0.005475</td>\n",
       "      <td>0.006555</td>\n",
       "      <td>0.014972</td>\n",
       "      <td>-0.004820</td>\n",
       "      <td>0.003203</td>\n",
       "      <td>0.905706</td>\n",
       "      <td>-0.002825</td>\n",
       "    </tr>\n",
       "    <tr>\n",
       "      <th>2020-01-29</th>\n",
       "      <td>0.007051</td>\n",
       "      <td>0.000404</td>\n",
       "      <td>0.002107</td>\n",
       "      <td>0.000382</td>\n",
       "      <td>0.005041</td>\n",
       "      <td>0.105593</td>\n",
       "      <td>-0.087819</td>\n",
       "    </tr>\n",
       "    <tr>\n",
       "      <th>2020-01-30</th>\n",
       "      <td>-0.017180</td>\n",
       "      <td>0.004350</td>\n",
       "      <td>0.018925</td>\n",
       "      <td>0.008727</td>\n",
       "      <td>-0.025414</td>\n",
       "      <td>0.335333</td>\n",
       "      <td>-0.065217</td>\n",
       "    </tr>\n",
       "    <tr>\n",
       "      <th>...</th>\n",
       "      <td>...</td>\n",
       "      <td>...</td>\n",
       "      <td>...</td>\n",
       "      <td>...</td>\n",
       "      <td>...</td>\n",
       "      <td>...</td>\n",
       "      <td>...</td>\n",
       "    </tr>\n",
       "    <tr>\n",
       "      <th>2021-06-03</th>\n",
       "      <td>0.003868</td>\n",
       "      <td>-0.000675</td>\n",
       "      <td>-0.003232</td>\n",
       "      <td>-0.019030</td>\n",
       "      <td>-0.000561</td>\n",
       "      <td>0.002850</td>\n",
       "      <td>0.000000</td>\n",
       "    </tr>\n",
       "    <tr>\n",
       "      <th>2021-06-04</th>\n",
       "      <td>-0.004012</td>\n",
       "      <td>0.005187</td>\n",
       "      <td>-0.031669</td>\n",
       "      <td>0.009940</td>\n",
       "      <td>0.008134</td>\n",
       "      <td>0.002435</td>\n",
       "      <td>0.000000</td>\n",
       "    </tr>\n",
       "    <tr>\n",
       "      <th>2021-06-07</th>\n",
       "      <td>0.002685</td>\n",
       "      <td>-0.003630</td>\n",
       "      <td>-0.049058</td>\n",
       "      <td>0.003704</td>\n",
       "      <td>-0.005564</td>\n",
       "      <td>0.006039</td>\n",
       "      <td>0.011628</td>\n",
       "    </tr>\n",
       "    <tr>\n",
       "      <th>2021-06-08</th>\n",
       "      <td>-0.001919</td>\n",
       "      <td>-0.000878</td>\n",
       "      <td>-0.044383</td>\n",
       "      <td>-0.002425</td>\n",
       "      <td>0.010211</td>\n",
       "      <td>0.002112</td>\n",
       "      <td>0.000000</td>\n",
       "    </tr>\n",
       "    <tr>\n",
       "      <th>2021-06-09</th>\n",
       "      <td>-0.003548</td>\n",
       "      <td>-0.004413</td>\n",
       "      <td>-0.002399</td>\n",
       "      <td>0.000528</td>\n",
       "      <td>0.000000</td>\n",
       "      <td>0.002412</td>\n",
       "      <td>0.011494</td>\n",
       "    </tr>\n",
       "  </tbody>\n",
       "</table>\n",
       "<p>324 rows × 7 columns</p>\n",
       "</div>"
      ],
      "text/plain": [
       "            Nikkei 225 Close  DJI Close  Sugar Close  Gold Close  \\\n",
       "Date                                                               \n",
       "2020-01-24          0.001334  -0.005842     0.000470    0.004154   \n",
       "2020-01-27         -0.020299  -0.015658    -0.012670    0.003628   \n",
       "2020-01-28         -0.005475   0.006555     0.014972   -0.004820   \n",
       "2020-01-29          0.007051   0.000404     0.002107    0.000382   \n",
       "2020-01-30         -0.017180   0.004350     0.018925    0.008727   \n",
       "...                      ...        ...          ...         ...   \n",
       "2021-06-03          0.003868  -0.000675    -0.003232   -0.019030   \n",
       "2021-06-04         -0.004012   0.005187    -0.031669    0.009940   \n",
       "2021-06-07          0.002685  -0.003630    -0.049058    0.003704   \n",
       "2021-06-08         -0.001919  -0.000878    -0.044383   -0.002425   \n",
       "2021-06-09         -0.003548  -0.004413    -0.002399    0.000528   \n",
       "\n",
       "            Brent Crude Oil Close  World Total Cases  World Reproduction Rate  \n",
       "Date                                                                           \n",
       "2020-01-24              -0.021760           0.436641                 0.054662  \n",
       "2020-01-27              -0.022574           2.110521                 0.079268  \n",
       "2020-01-28               0.003203           0.905706                -0.002825  \n",
       "2020-01-29               0.005041           0.105593                -0.087819  \n",
       "2020-01-30              -0.025414           0.335333                -0.065217  \n",
       "...                           ...                ...                      ...  \n",
       "2021-06-03              -0.000561           0.002850                 0.000000  \n",
       "2021-06-04               0.008134           0.002435                 0.000000  \n",
       "2021-06-07              -0.005564           0.006039                 0.011628  \n",
       "2021-06-08               0.010211           0.002112                 0.000000  \n",
       "2021-06-09               0.000000           0.002412                 0.011494  \n",
       "\n",
       "[324 rows x 7 columns]"
      ]
     },
     "execution_count": 154,
     "metadata": {},
     "output_type": "execute_result"
    }
   ],
   "source": [
    "daily_change = combined_df.pct_change().dropna()\n",
    "daily_change"
   ]
  },
  {
   "cell_type": "code",
   "execution_count": 155,
   "metadata": {},
   "outputs": [
    {
     "data": {
      "text/html": [
       "<div>\n",
       "<style scoped>\n",
       "    .dataframe tbody tr th:only-of-type {\n",
       "        vertical-align: middle;\n",
       "    }\n",
       "\n",
       "    .dataframe tbody tr th {\n",
       "        vertical-align: top;\n",
       "    }\n",
       "\n",
       "    .dataframe thead th {\n",
       "        text-align: right;\n",
       "    }\n",
       "</style>\n",
       "<table border=\"1\" class=\"dataframe\">\n",
       "  <thead>\n",
       "    <tr style=\"text-align: right;\">\n",
       "      <th></th>\n",
       "      <th>Nikkei 225 Close</th>\n",
       "      <th>DJI Close</th>\n",
       "      <th>Sugar Close</th>\n",
       "      <th>Gold Close</th>\n",
       "      <th>Brent Crude Oil Close</th>\n",
       "      <th>World Total Cases</th>\n",
       "      <th>World Reproduction Rate</th>\n",
       "    </tr>\n",
       "  </thead>\n",
       "  <tbody>\n",
       "    <tr>\n",
       "      <th>Nikkei 225 Close</th>\n",
       "      <td>1.000000</td>\n",
       "      <td>0.339841</td>\n",
       "      <td>0.096144</td>\n",
       "      <td>0.104772</td>\n",
       "      <td>0.194190</td>\n",
       "      <td>-0.077458</td>\n",
       "      <td>-0.092877</td>\n",
       "    </tr>\n",
       "    <tr>\n",
       "      <th>DJI Close</th>\n",
       "      <td>0.339841</td>\n",
       "      <td>1.000000</td>\n",
       "      <td>0.264762</td>\n",
       "      <td>0.111284</td>\n",
       "      <td>0.379288</td>\n",
       "      <td>-0.066141</td>\n",
       "      <td>-0.066257</td>\n",
       "    </tr>\n",
       "    <tr>\n",
       "      <th>Sugar Close</th>\n",
       "      <td>0.096144</td>\n",
       "      <td>0.264762</td>\n",
       "      <td>1.000000</td>\n",
       "      <td>0.100066</td>\n",
       "      <td>0.148074</td>\n",
       "      <td>-0.042536</td>\n",
       "      <td>-0.007083</td>\n",
       "    </tr>\n",
       "    <tr>\n",
       "      <th>Gold Close</th>\n",
       "      <td>0.104772</td>\n",
       "      <td>0.111284</td>\n",
       "      <td>0.100066</td>\n",
       "      <td>1.000000</td>\n",
       "      <td>0.059946</td>\n",
       "      <td>0.053599</td>\n",
       "      <td>-0.065775</td>\n",
       "    </tr>\n",
       "    <tr>\n",
       "      <th>Brent Crude Oil Close</th>\n",
       "      <td>0.194190</td>\n",
       "      <td>0.379288</td>\n",
       "      <td>0.148074</td>\n",
       "      <td>0.059946</td>\n",
       "      <td>1.000000</td>\n",
       "      <td>-0.075936</td>\n",
       "      <td>-0.064749</td>\n",
       "    </tr>\n",
       "    <tr>\n",
       "      <th>World Total Cases</th>\n",
       "      <td>-0.077458</td>\n",
       "      <td>-0.066141</td>\n",
       "      <td>-0.042536</td>\n",
       "      <td>0.053599</td>\n",
       "      <td>-0.075936</td>\n",
       "      <td>1.000000</td>\n",
       "      <td>-0.071721</td>\n",
       "    </tr>\n",
       "    <tr>\n",
       "      <th>World Reproduction Rate</th>\n",
       "      <td>-0.092877</td>\n",
       "      <td>-0.066257</td>\n",
       "      <td>-0.007083</td>\n",
       "      <td>-0.065775</td>\n",
       "      <td>-0.064749</td>\n",
       "      <td>-0.071721</td>\n",
       "      <td>1.000000</td>\n",
       "    </tr>\n",
       "  </tbody>\n",
       "</table>\n",
       "</div>"
      ],
      "text/plain": [
       "                         Nikkei 225 Close  DJI Close  Sugar Close  Gold Close  \\\n",
       "Nikkei 225 Close                 1.000000   0.339841     0.096144    0.104772   \n",
       "DJI Close                        0.339841   1.000000     0.264762    0.111284   \n",
       "Sugar Close                      0.096144   0.264762     1.000000    0.100066   \n",
       "Gold Close                       0.104772   0.111284     0.100066    1.000000   \n",
       "Brent Crude Oil Close            0.194190   0.379288     0.148074    0.059946   \n",
       "World Total Cases               -0.077458  -0.066141    -0.042536    0.053599   \n",
       "World Reproduction Rate         -0.092877  -0.066257    -0.007083   -0.065775   \n",
       "\n",
       "                         Brent Crude Oil Close  World Total Cases  \\\n",
       "Nikkei 225 Close                      0.194190          -0.077458   \n",
       "DJI Close                             0.379288          -0.066141   \n",
       "Sugar Close                           0.148074          -0.042536   \n",
       "Gold Close                            0.059946           0.053599   \n",
       "Brent Crude Oil Close                 1.000000          -0.075936   \n",
       "World Total Cases                    -0.075936           1.000000   \n",
       "World Reproduction Rate              -0.064749          -0.071721   \n",
       "\n",
       "                         World Reproduction Rate  \n",
       "Nikkei 225 Close                       -0.092877  \n",
       "DJI Close                              -0.066257  \n",
       "Sugar Close                            -0.007083  \n",
       "Gold Close                             -0.065775  \n",
       "Brent Crude Oil Close                  -0.064749  \n",
       "World Total Cases                      -0.071721  \n",
       "World Reproduction Rate                 1.000000  "
      ]
     },
     "execution_count": 155,
     "metadata": {},
     "output_type": "execute_result"
    }
   ],
   "source": [
    "new_combined_corr = daily_change.corr()\n",
    "new_combined_corr"
   ]
  },
  {
   "cell_type": "code",
   "execution_count": 147,
   "metadata": {},
   "outputs": [
    {
     "data": {
      "text/plain": [
       "<AxesSubplot:>"
      ]
     },
     "execution_count": 147,
     "metadata": {},
     "output_type": "execute_result"
    },
    {
     "data": {
      "image/png": "[encoded data removed]",
      "text/plain": [
       "<Figure size 432x288 with 2 Axes>"
      ]
     },
     "metadata": {
      "needs_background": "light"
     },
     "output_type": "display_data"
    }
   ],
   "source": [
    "sns.heatmap(new_combined_corr, vmin=-1, vmax=1)"
   ]
  },
  {
   "cell_type": "code",
   "execution_count": 241,
   "metadata": {},
   "outputs": [
    {
     "data": {
      "text/html": [
       "<div>\n",
       "<style scoped>\n",
       "    .dataframe tbody tr th:only-of-type {\n",
       "        vertical-align: middle;\n",
       "    }\n",
       "\n",
       "    .dataframe tbody tr th {\n",
       "        vertical-align: top;\n",
       "    }\n",
       "\n",
       "    .dataframe thead th {\n",
       "        text-align: right;\n",
       "    }\n",
       "</style>\n",
       "<table border=\"1\" class=\"dataframe\">\n",
       "  <thead>\n",
       "    <tr style=\"text-align: right;\">\n",
       "      <th></th>\n",
       "      <th>location</th>\n",
       "      <th>total_cases</th>\n",
       "      <th>population_density</th>\n",
       "      <th>gdp_per_capita</th>\n",
       "    </tr>\n",
       "  </thead>\n",
       "  <tbody>\n",
       "    <tr>\n",
       "      <th>112</th>\n",
       "      <td>Micronesia (country)</td>\n",
       "      <td>1.0</td>\n",
       "      <td>150.777</td>\n",
       "      <td>3299.464</td>\n",
       "    </tr>\n",
       "    <tr>\n",
       "      <th>89</th>\n",
       "      <td>Kiribati</td>\n",
       "      <td>2.0</td>\n",
       "      <td>143.701</td>\n",
       "      <td>1981.132</td>\n",
       "    </tr>\n",
       "    <tr>\n",
       "      <th>147</th>\n",
       "      <td>Samoa</td>\n",
       "      <td>3.0</td>\n",
       "      <td>69.413</td>\n",
       "      <td>6021.557</td>\n",
       "    </tr>\n",
       "    <tr>\n",
       "      <th>186</th>\n",
       "      <td>Vanuatu</td>\n",
       "      <td>4.0</td>\n",
       "      <td>22.662</td>\n",
       "      <td>2921.909</td>\n",
       "    </tr>\n",
       "    <tr>\n",
       "      <th>108</th>\n",
       "      <td>Marshall Islands</td>\n",
       "      <td>4.0</td>\n",
       "      <td>295.150</td>\n",
       "      <td>3819.202</td>\n",
       "    </tr>\n",
       "    <tr>\n",
       "      <th>...</th>\n",
       "      <td>...</td>\n",
       "      <td>...</td>\n",
       "      <td>...</td>\n",
       "      <td>...</td>\n",
       "    </tr>\n",
       "    <tr>\n",
       "      <th>142</th>\n",
       "      <td>Russia</td>\n",
       "      <td>7334843.0</td>\n",
       "      <td>8.823</td>\n",
       "      <td>24765.954</td>\n",
       "    </tr>\n",
       "    <tr>\n",
       "      <th>182</th>\n",
       "      <td>United Kingdom</td>\n",
       "      <td>7737941.0</td>\n",
       "      <td>272.898</td>\n",
       "      <td>39753.244</td>\n",
       "    </tr>\n",
       "    <tr>\n",
       "      <th>23</th>\n",
       "      <td>Brazil</td>\n",
       "      <td>21366395.0</td>\n",
       "      <td>25.040</td>\n",
       "      <td>14103.452</td>\n",
       "    </tr>\n",
       "    <tr>\n",
       "      <th>77</th>\n",
       "      <td>India</td>\n",
       "      <td>33697581.0</td>\n",
       "      <td>450.419</td>\n",
       "      <td>6426.674</td>\n",
       "    </tr>\n",
       "    <tr>\n",
       "      <th>183</th>\n",
       "      <td>United States</td>\n",
       "      <td>43116442.0</td>\n",
       "      <td>35.608</td>\n",
       "      <td>54225.446</td>\n",
       "    </tr>\n",
       "  </tbody>\n",
       "</table>\n",
       "<p>193 rows × 4 columns</p>\n",
       "</div>"
      ],
      "text/plain": [
       "                 location  total_cases  population_density  gdp_per_capita\n",
       "112  Micronesia (country)          1.0             150.777        3299.464\n",
       "89               Kiribati          2.0             143.701        1981.132\n",
       "147                 Samoa          3.0              69.413        6021.557\n",
       "186               Vanuatu          4.0              22.662        2921.909\n",
       "108      Marshall Islands          4.0             295.150        3819.202\n",
       "..                    ...          ...                 ...             ...\n",
       "142                Russia    7334843.0               8.823       24765.954\n",
       "182        United Kingdom    7737941.0             272.898       39753.244\n",
       "23                 Brazil   21366395.0              25.040       14103.452\n",
       "77                  India   33697581.0             450.419        6426.674\n",
       "183         United States   43116442.0              35.608       54225.446\n",
       "\n",
       "[193 rows x 4 columns]"
      ]
     },
     "execution_count": 241,
     "metadata": {},
     "output_type": "execute_result"
    }
   ],
   "source": [
    "#covid_data\n",
    "analysis = covid_data[['date','continent','location','total_cases','population_density','gdp_per_capita']]#.set_index('Date')\n",
    "analysis = analysis[(analysis['date'] == '2021-09-27') & (analysis['location'] != analysis['continent']) & (~analysis['continent'].isnull())]\n",
    "#analysis.info()\n",
    "continent = analysis.groupby(['location'])['total_cases','population_density','gdp_per_capita'].mean().reset_index().sort_values(by='total_cases')\n",
    "continent"
   ]
  },
  {
   "cell_type": "code",
   "execution_count": 242,
   "metadata": {},
   "outputs": [
    {
     "data": {
      "application/vnd.plotly.v1+json": {
       "config": {
        "plotlyServerURL": "https://plot.ly"
       },
       "data": [
        {
         "dimensions": [
          {
           "label": "Population Density",
           "values": [
            150.777,
            143.701,
            69.413,
            22.662,
            295.15,
            47.237,
            21.841,
            null,
            64.699,
            212.865,
            21.188,
            231.845,
            98.567,
            19347.5,
            212.841,
            281.787,
            237.012,
            437.352,
            18.206,
            317.132,
            11.833,
            556.667,
            49.127,
            16.955,
            66.191,
            104.7,
            44.304,
            81.347,
            664.463,
            53.508,
            207.566,
            293.187,
            7.479,
            3.404,
            45.194,
            null,
            7039.714,
            41.285,
            51.667,
            70.151,
            15.405,
            73.562,
            15.196,
            163.755,
            622.962,
            null,
            423.062,
            64.281,
            87.176,
            18.22,
            16.426,
            23.5,
            39.497,
            208.354,
            398.448,
            29.715,
            99.11,
            143.366,
            7.859,
            51.755,
            3.952,
            null,
            4.289,
            1454.037,
            135.58,
            23.258,
            3.612,
            43.951,
            79.492,
            266.886,
            49.562,
            23.89,
            35.879,
            76.399,
            197.519,
            82.328,
            231.447,
            266.879,
            1454.433,
            50.885,
            7915.731,
            147.674,
            494.869,
            3.202,
            307.811,
            90.672,
            127.657,
            213.759,
            126.719,
            3.078,
            42.729,
            46.28,
            18.136,
            37.728,
            31.033,
            54.422,
            31.212,
            168.155,
            104.871,
            76.134,
            4.044,
            32.333,
            14.462,
            82.6,
            17.348,
            209.588,
            22.995,
            68.496,
            227.322,
            87.324,
            102.931,
            1935.907,
            102.619,
            123.655,
            1.98,
            97.999,
            14.98,
            527.967,
            45.135,
            3.623,
            104.957,
            222.873,
            136.52,
            82.805,
            36.253,
            69.874,
            19.751,
            778.202,
            73.726,
            113.128,
            232.128,
            81.721,
            17.144,
            55.133,
            119.309,
            65.18,
            10.202,
            66.939,
            341.955,
            96.079,
            46.858,
            15.322,
            157.834,
            65.032,
            594.561,
            83.479,
            74.228,
            112.442,
            106.749,
            308.127,
            204.43,
            109.285,
            108.043,
            214.243,
            110.408,
            80.291,
            80.08,
            6.681,
            112.371,
            24.718,
            85.129,
            375.564,
            255.573,
            402.606,
            1265.036,
            135.132,
            4.037,
            24.282,
            137.176,
            347.778,
            88.125,
            508.544,
            25.129,
            96.254,
            351.873,
            77.39,
            46.754,
            124.027,
            66.444,
            237.016,
            145.725,
            205.859,
            93.105,
            44.223,
            16.177,
            49.831,
            104.914,
            122.578,
            8.823,
            272.898,
            25.04,
            450.419,
            35.608
           ]
          },
          {
           "label": "location",
           "values": [
            "Micronesia (country)",
            "Kiribati",
            "Samoa",
            "Vanuatu",
            "Marshall Islands",
            "Palau",
            "Solomon Islands",
            "Vatican",
            "Tanzania",
            "Saint Kitts and Nevis",
            "Bhutan",
            "Antigua and Barbuda",
            "Dominica",
            "Monaco",
            "Sao Tome and Principe",
            "Saint Vincent and the Grenadines",
            "Liechtenstein",
            "Comoros",
            "New Zealand",
            "Grenada",
            "Chad",
            "San Marino",
            "Liberia",
            "Niger",
            "Guinea-Bissau",
            "Sierra Leone",
            "Eritrea",
            "Brunei",
            "Barbados",
            "Yemen",
            "Gambia",
            "Saint Lucia",
            "Central African Republic",
            "Iceland",
            "Equatorial Guinea",
            "South Sudan",
            "Hong Kong",
            "Djibouti",
            "Nicaragua",
            "Burkina Faso",
            "Congo",
            "Lesotho",
            "Mali",
            "Andorra",
            "Mauritius",
            "Taiwan",
            "Burundi",
            "Tajikistan",
            "Timor",
            "Papua New Guinea",
            "Belize",
            "Somalia",
            "Bahamas",
            "Seychelles",
            "Haiti",
            "Laos",
            "Benin",
            "Togo",
            "Gabon",
            "Guinea",
            "Guyana",
            "Syria",
            "Mauritania",
            "Malta",
            "Cape Verde",
            "Sudan",
            "Suriname",
            "Madagascar",
            "Eswatini",
            "Trinidad and Tobago",
            "Fiji",
            "Angola",
            "Democratic Republic of Congo",
            "Cote d'Ivoire",
            "Malawi",
            "Senegal",
            "Luxembourg",
            "Jamaica",
            "Maldives",
            "Cameroon",
            "Singapore",
            "China",
            "Rwanda",
            "Australia",
            "El Salvador",
            "Cambodia",
            "Cyprus",
            "Uganda",
            "Ghana",
            "Namibia",
            "Zimbabwe",
            "Montenegro",
            "Finland",
            "Mozambique",
            "Estonia",
            "Afghanistan",
            "Latvia",
            "Kosovo",
            "Albania",
            "Uzbekistan",
            "Botswana",
            "Kyrgyzstan",
            "Norway",
            "North Macedonia",
            "Algeria",
            "Nigeria",
            "Zambia",
            "Bosnia and Herzegovina",
            "Qatar",
            "Kenya",
            "Armenia",
            "Bahrain",
            "Slovenia",
            "Moldova",
            "Mongolia",
            "Egypt",
            "Oman",
            "South Korea",
            "Lithuania",
            "Libya",
            "Ethiopia",
            "Dominican Republic",
            "Denmark",
            "Honduras",
            "Venezuela",
            "Ireland",
            "Uruguay",
            "Palestine",
            "Croatia",
            "Slovakia",
            "Kuwait",
            "Myanmar",
            "Paraguay",
            "Panama",
            "Azerbaijan",
            "Bulgaria",
            "Bolivia",
            "Ecuador",
            "Sri Lanka",
            "Costa Rica",
            "Belarus",
            "Saudi Arabia",
            "Guatemala",
            "Georgia",
            "Lebanon",
            "Greece",
            "Tunisia",
            "United Arab Emirates",
            "Austria",
            "Vietnam",
            "Nepal",
            "Jordan",
            "Hungary",
            "Switzerland",
            "Cuba",
            "Serbia",
            "Morocco",
            "Kazakhstan",
            "Portugal",
            "Sweden",
            "Romania",
            "Belgium",
            "Pakistan",
            "Israel",
            "Bangladesh",
            "Thailand",
            "Canada",
            "Chile",
            "Czechia",
            "Japan",
            "Iraq",
            "Netherlands",
            "Peru",
            "Malaysia",
            "Philippines",
            "Ukraine",
            "South Africa",
            "Poland",
            "Mexico",
            "Germany",
            "Indonesia",
            "Italy",
            "Spain",
            "Colombia",
            "Argentina",
            "Iran",
            "Turkey",
            "France",
            "Russia",
            "United Kingdom",
            "Brazil",
            "India",
            "United States"
           ]
          },
          {
           "label": "Total Number of Cases",
           "values": [
            1,
            2,
            3,
            4,
            4,
            5,
            20,
            27,
            1367,
            1872,
            2599,
            2923,
            3293,
            3303,
            3349,
            3359,
            3445,
            4128,
            4205,
            5005,
            5034,
            5428,
            5794,
            5990,
            6099,
            6393,
            6694,
            6700,
            7764,
            8988,
            9930,
            11231,
            11371,
            11722,
            11806,
            11954,
            12196,
            12253,
            13730,
            14183,
            14244,
            14395,
            15165,
            15189,
            15391,
            16198,
            16356,
            17484,
            19398,
            19523,
            19945,
            19980,
            20775,
            21374,
            21540,
            22441,
            22958,
            25252,
            29515,
            30364,
            31236,
            33323,
            35889,
            37103,
            37472,
            38201,
            40476,
            42898,
            45812,
            50055,
            50807,
            55583,
            56862,
            59977,
            61517,
            73747,
            77930,
            83030,
            84484,
            85414,
            89539,
            96148,
            96982,
            100911,
            104348,
            109926,
            118181,
            123245,
            127016,
            127373,
            129919,
            129990,
            139678,
            150540,
            153926,
            155072,
            155076,
            159893,
            168188,
            172493,
            178050,
            178317,
            187593,
            189999,
            202877,
            204752,
            208867,
            232237,
            236388,
            248515,
            259007,
            274877,
            289955,
            290043,
            298919,
            302327,
            303673,
            305842,
            326654,
            337890,
            342305,
            357517,
            359062,
            363106,
            363300,
            385721,
            388572,
            398946,
            400108,
            408609,
            411533,
            459436,
            459828,
            466357,
            481401,
            495397,
            499202,
            508655,
            514592,
            525999,
            532149,
            546985,
            550333,
            607155,
            622440,
            648091,
            705474,
            735180,
            737202,
            766051,
            792367,
            820798,
            821261,
            836483,
            860799,
            917802,
            929699,
            956025,
            1067175,
            1149407,
            1199761,
            1238358,
            1241825,
            1270230,
            1552563,
            1571926,
            1620537,
            1652364,
            1689620,
            1696971,
            1996214,
            2035980,
            2173354,
            2209194,
            2490858,
            2503710,
            2897521,
            2903655,
            3635807,
            4209098,
            4209403,
            4662087,
            4951640,
            4952690,
            5251940,
            5547990,
            7066658,
            7087110,
            7334843,
            7737941,
            21366395,
            33697581,
            43116442
           ]
          }
         ],
         "domain": {
          "x": [
           0,
           1
          ],
          "y": [
           0,
           1
          ]
         },
         "line": {
          "color": [
           3299.464,
           1981.132,
           6021.557,
           2921.909,
           3819.202,
           13240.405,
           2205.923,
           null,
           2683.304,
           24654.385,
           8708.597,
           21490.943,
           9673.367,
           null,
           3052.714,
           10727.146,
           null,
           1413.89,
           36085.843,
           13593.877,
           1768.153,
           56861.47,
           752.788,
           926,
           1548.675,
           1390.3,
           1510.459,
           71809.251,
           16978.068,
           1479.147,
           1561.767,
           12951.839,
           661.24,
           46482.958,
           22604.873,
           1569.888,
           56054.92,
           2705.406,
           5321.444,
           1703.102,
           4881.406,
           2851.153,
           2014.306,
           null,
           20292.745,
           null,
           702.225,
           2896.913,
           6570.102,
           3823.194,
           7824.362,
           null,
           27717.847,
           26382.287,
           1653.173,
           6397.36,
           2064.236,
           1429.813,
           16562.413,
           1998.926,
           7435.047,
           null,
           3597.633,
           36513.323,
           6222.554,
           4466.507,
           13767.119,
           1416.44,
           7738.975,
           28763.071,
           8702.975,
           5819.495,
           808.133,
           3601.006,
           1095.042,
           2470.58,
           94277.965,
           8193.571,
           15183.616,
           3364.926,
           85535.383,
           15308.712,
           1854.211,
           44648.71,
           7292.458,
           3645.07,
           32415.132,
           1697.707,
           4227.63,
           9541.808,
           1899.775,
           16409.288,
           40585.721,
           1136.103,
           29481.252,
           1803.987,
           25063.846,
           9795.834,
           11803.431,
           6253.104,
           15807.374,
           3393.474,
           64800.057,
           13111.214,
           13913.839,
           5338.454,
           3689.251,
           11713.895,
           116935.6,
           2993.028,
           8787.58,
           43290.705,
           31400.84,
           5189.972,
           11840.846,
           10550.206,
           37960.709,
           35938.374,
           29524.265,
           17881.509,
           1729.927,
           14600.861,
           46682.515,
           4541.795,
           16745.022,
           67335.293,
           20551.409,
           4449.898,
           22669.797,
           30155.152,
           65530.537,
           5591.597,
           8827.01,
           22267.037,
           15847.419,
           18563.307,
           6885.829,
           10581.936,
           11669.077,
           15524.995,
           17167.967,
           49045.411,
           7423.808,
           9745.079,
           13367.565,
           24574.382,
           10849.297,
           67293.483,
           45436.686,
           6171.884,
           2442.804,
           8337.49,
           26777.561,
           57410.166,
           null,
           14048.881,
           7485.013,
           24055.588,
           27936.896,
           46949.283,
           23313.199,
           42658.576,
           5034.708,
           33132.32,
           3523.984,
           16277.671,
           44017.591,
           22767.037,
           32605.906,
           39002.223,
           15663.986,
           48472.545,
           12236.706,
           26808.164,
           7599.188,
           7894.393,
           12294.876,
           27216.445,
           17336.469,
           45229.245,
           11188.744,
           35220.084,
           34272.36,
           13254.949,
           18933.907,
           19082.62,
           25129.341,
           38605.671,
           24765.954,
           39753.244,
           14103.452,
           6426.674,
           54225.446
          ],
          "coloraxis": "coloraxis"
         },
         "name": "",
         "type": "parcats"
        }
       ],
       "layout": {
        "autosize": true,
        "coloraxis": {
         "colorbar": {
          "title": {
           "text": "gdp_per_capita"
          }
         },
         "colorscale": [
          [
           0,
           "#000004"
          ],
          [
           0.1111111111111111,
           "#1b0c41"
          ],
          [
           0.2222222222222222,
           "#4a0c6b"
          ],
          [
           0.3333333333333333,
           "#781c6d"
          ],
          [
           0.4444444444444444,
           "#a52c60"
          ],
          [
           0.5555555555555556,
           "#cf4446"
          ],
          [
           0.6666666666666666,
           "#ed6925"
          ],
          [
           0.7777777777777778,
           "#fb9b06"
          ],
          [
           0.8888888888888888,
           "#f7d13d"
          ],
          [
           1,
           "#fcffa4"
          ]
         ]
        },
        "legend": {
         "tracegroupgap": 0
        },
        "margin": {
         "t": 60
        },
        "template": {
         "data": {
          "bar": [
           {
            "error_x": {
             "color": "#2a3f5f"
            },
            "error_y": {
             "color": "#2a3f5f"
            },
            "marker": {
             "line": {
              "color": "#E5ECF6",
              "width": 0.5
             },
             "pattern": {
              "fillmode": "overlay",
              "size": 10,
              "solidity": 0.2
             }
            },
            "type": "bar"
           }
          ],
          "barpolar": [
           {
            "marker": {
             "line": {
              "color": "#E5ECF6",
              "width": 0.5
             },
             "pattern": {
              "fillmode": "overlay",
              "size": 10,
              "solidity": 0.2
             }
            },
            "type": "barpolar"
           }
          ],
          "carpet": [
           {
            "aaxis": {
             "endlinecolor": "#2a3f5f",
             "gridcolor": "white",
             "linecolor": "white",
             "minorgridcolor": "white",
             "startlinecolor": "#2a3f5f"
            },
            "baxis": {
             "endlinecolor": "#2a3f5f",
             "gridcolor": "white",
             "linecolor": "white",
             "minorgridcolor": "white",
             "startlinecolor": "#2a3f5f"
            },
            "type": "carpet"
           }
          ],
          "choropleth": [
           {
            "colorbar": {
             "outlinewidth": 0,
             "ticks": ""
            },
            "type": "choropleth"
           }
          ],
          "contour": [
           {
            "colorbar": {
             "outlinewidth": 0,
             "ticks": ""
            },
            "colorscale": [
             [
              0,
              "#0d0887"
             ],
             [
              0.1111111111111111,
              "#46039f"
             ],
             [
              0.2222222222222222,
              "#7201a8"
             ],
             [
              0.3333333333333333,
              "#9c179e"
             ],
             [
              0.4444444444444444,
              "#bd3786"
             ],
             [
              0.5555555555555556,
              "#d8576b"
             ],
             [
              0.6666666666666666,
              "#ed7953"
             ],
             [
              0.7777777777777778,
              "#fb9f3a"
             ],
             [
              0.8888888888888888,
              "#fdca26"
             ],
             [
              1,
              "#f0f921"
             ]
            ],
            "type": "contour"
           }
          ],
          "contourcarpet": [
           {
            "colorbar": {
             "outlinewidth": 0,
             "ticks": ""
            },
            "type": "contourcarpet"
           }
          ],
          "heatmap": [
           {
            "colorbar": {
             "outlinewidth": 0,
             "ticks": ""
            },
            "colorscale": [
             [
              0,
              "#0d0887"
             ],
             [
              0.1111111111111111,
              "#46039f"
             ],
             [
              0.2222222222222222,
              "#7201a8"
             ],
             [
              0.3333333333333333,
              "#9c179e"
             ],
             [
              0.4444444444444444,
              "#bd3786"
             ],
             [
              0.5555555555555556,
              "#d8576b"
             ],
             [
              0.6666666666666666,
              "#ed7953"
             ],
             [
              0.7777777777777778,
              "#fb9f3a"
             ],
             [
              0.8888888888888888,
              "#fdca26"
             ],
             [
              1,
              "#f0f921"
             ]
            ],
            "type": "heatmap"
           }
          ],
          "heatmapgl": [
           {
            "colorbar": {
             "outlinewidth": 0,
             "ticks": ""
            },
            "colorscale": [
             [
              0,
              "#0d0887"
             ],
             [
              0.1111111111111111,
              "#46039f"
             ],
             [
              0.2222222222222222,
              "#7201a8"
             ],
             [
              0.3333333333333333,
              "#9c179e"
             ],
             [
              0.4444444444444444,
              "#bd3786"
             ],
             [
              0.5555555555555556,
              "#d8576b"
             ],
             [
              0.6666666666666666,
              "#ed7953"
             ],
             [
              0.7777777777777778,
              "#fb9f3a"
             ],
             [
              0.8888888888888888,
              "#fdca26"
             ],
             [
              1,
              "#f0f921"
             ]
            ],
            "type": "heatmapgl"
           }
          ],
          "histogram": [
           {
            "marker": {
             "pattern": {
              "fillmode": "overlay",
              "size": 10,
              "solidity": 0.2
             }
            },
            "type": "histogram"
           }
          ],
          "histogram2d": [
           {
            "colorbar": {
             "outlinewidth": 0,
             "ticks": ""
            },
            "colorscale": [
             [
              0,
              "#0d0887"
             ],
             [
              0.1111111111111111,
              "#46039f"
             ],
             [
              0.2222222222222222,
              "#7201a8"
             ],
             [
              0.3333333333333333,
              "#9c179e"
             ],
             [
              0.4444444444444444,
              "#bd3786"
             ],
             [
              0.5555555555555556,
              "#d8576b"
             ],
             [
              0.6666666666666666,
              "#ed7953"
             ],
             [
              0.7777777777777778,
              "#fb9f3a"
             ],
             [
              0.8888888888888888,
              "#fdca26"
             ],
             [
              1,
              "#f0f921"
             ]
            ],
            "type": "histogram2d"
           }
          ],
          "histogram2dcontour": [
           {
            "colorbar": {
             "outlinewidth": 0,
             "ticks": ""
            },
            "colorscale": [
             [
              0,
              "#0d0887"
             ],
             [
              0.1111111111111111,
              "#46039f"
             ],
             [
              0.2222222222222222,
              "#7201a8"
             ],
             [
              0.3333333333333333,
              "#9c179e"
             ],
             [
              0.4444444444444444,
              "#bd3786"
             ],
             [
              0.5555555555555556,
              "#d8576b"
             ],
             [
              0.6666666666666666,
              "#ed7953"
             ],
             [
              0.7777777777777778,
              "#fb9f3a"
             ],
             [
              0.8888888888888888,
              "#fdca26"
             ],
             [
              1,
              "#f0f921"
             ]
            ],
            "type": "histogram2dcontour"
           }
          ],
          "mesh3d": [
           {
            "colorbar": {
             "outlinewidth": 0,
             "ticks": ""
            },
            "type": "mesh3d"
           }
          ],
          "parcoords": [
           {
            "line": {
             "colorbar": {
              "outlinewidth": 0,
              "ticks": ""
             }
            },
            "type": "parcoords"
           }
          ],
          "pie": [
           {
            "automargin": true,
            "type": "pie"
           }
          ],
          "scatter": [
           {
            "marker": {
             "colorbar": {
              "outlinewidth": 0,
              "ticks": ""
             }
            },
            "type": "scatter"
           }
          ],
          "scatter3d": [
           {
            "line": {
             "colorbar": {
              "outlinewidth": 0,
              "ticks": ""
             }
            },
            "marker": {
             "colorbar": {
              "outlinewidth": 0,
              "ticks": ""
             }
            },
            "type": "scatter3d"
           }
          ],
          "scattercarpet": [
           {
            "marker": {
             "colorbar": {
              "outlinewidth": 0,
              "ticks": ""
             }
            },
            "type": "scattercarpet"
           }
          ],
          "scattergeo": [
           {
            "marker": {
             "colorbar": {
              "outlinewidth": 0,
              "ticks": ""
             }
            },
            "type": "scattergeo"
           }
          ],
          "scattergl": [
           {
            "marker": {
             "colorbar": {
              "outlinewidth": 0,
              "ticks": ""
             }
            },
            "type": "scattergl"
           }
          ],
          "scattermapbox": [
           {
            "marker": {
             "colorbar": {
              "outlinewidth": 0,
              "ticks": ""
             }
            },
            "type": "scattermapbox"
           }
          ],
          "scatterpolar": [
           {
            "marker": {
             "colorbar": {
              "outlinewidth": 0,
              "ticks": ""
             }
            },
            "type": "scatterpolar"
           }
          ],
          "scatterpolargl": [
           {
            "marker": {
             "colorbar": {
              "outlinewidth": 0,
              "ticks": ""
             }
            },
            "type": "scatterpolargl"
           }
          ],
          "scatterternary": [
           {
            "marker": {
             "colorbar": {
              "outlinewidth": 0,
              "ticks": ""
             }
            },
            "type": "scatterternary"
           }
          ],
          "surface": [
           {
            "colorbar": {
             "outlinewidth": 0,
             "ticks": ""
            },
            "colorscale": [
             [
              0,
              "#0d0887"
             ],
             [
              0.1111111111111111,
              "#46039f"
             ],
             [
              0.2222222222222222,
              "#7201a8"
             ],
             [
              0.3333333333333333,
              "#9c179e"
             ],
             [
              0.4444444444444444,
              "#bd3786"
             ],
             [
              0.5555555555555556,
              "#d8576b"
             ],
             [
              0.6666666666666666,
              "#ed7953"
             ],
             [
              0.7777777777777778,
              "#fb9f3a"
             ],
             [
              0.8888888888888888,
              "#fdca26"
             ],
             [
              1,
              "#f0f921"
             ]
            ],
            "type": "surface"
           }
          ],
          "table": [
           {
            "cells": {
             "fill": {
              "color": "#EBF0F8"
             },
             "line": {
              "color": "white"
             }
            },
            "header": {
             "fill": {
              "color": "#C8D4E3"
             },
             "line": {
              "color": "white"
             }
            },
            "type": "table"
           }
          ]
         },
         "layout": {
          "annotationdefaults": {
           "arrowcolor": "#2a3f5f",
           "arrowhead": 0,
           "arrowwidth": 1
          },
          "autotypenumbers": "strict",
          "coloraxis": {
           "colorbar": {
            "outlinewidth": 0,
            "ticks": ""
           }
          },
          "colorscale": {
           "diverging": [
            [
             0,
             "#8e0152"
            ],
            [
             0.1,
             "#c51b7d"
            ],
            [
             0.2,
             "#de77ae"
            ],
            [
             0.3,
             "#f1b6da"
            ],
            [
             0.4,
             "#fde0ef"
            ],
            [
             0.5,
             "#f7f7f7"
            ],
            [
             0.6,
             "#e6f5d0"
            ],
            [
             0.7,
             "#b8e186"
            ],
            [
             0.8,
             "#7fbc41"
            ],
            [
             0.9,
             "#4d9221"
            ],
            [
             1,
             "#276419"
            ]
           ],
           "sequential": [
            [
             0,
             "#0d0887"
            ],
            [
             0.1111111111111111,
             "#46039f"
            ],
            [
             0.2222222222222222,
             "#7201a8"
            ],
            [
             0.3333333333333333,
             "#9c179e"
            ],
            [
             0.4444444444444444,
             "#bd3786"
            ],
            [
             0.5555555555555556,
             "#d8576b"
            ],
            [
             0.6666666666666666,
             "#ed7953"
            ],
            [
             0.7777777777777778,
             "#fb9f3a"
            ],
            [
             0.8888888888888888,
             "#fdca26"
            ],
            [
             1,
             "#f0f921"
            ]
           ],
           "sequentialminus": [
            [
             0,
             "#0d0887"
            ],
            [
             0.1111111111111111,
             "#46039f"
            ],
            [
             0.2222222222222222,
             "#7201a8"
            ],
            [
             0.3333333333333333,
             "#9c179e"
            ],
            [
             0.4444444444444444,
             "#bd3786"
            ],
            [
             0.5555555555555556,
             "#d8576b"
            ],
            [
             0.6666666666666666,
             "#ed7953"
            ],
            [
             0.7777777777777778,
             "#fb9f3a"
            ],
            [
             0.8888888888888888,
             "#fdca26"
            ],
            [
             1,
             "#f0f921"
            ]
           ]
          },
          "colorway": [
           "#636efa",
           "#EF553B",
           "#00cc96",
           "#ab63fa",
           "#FFA15A",
           "#19d3f3",
           "#FF6692",
           "#B6E880",
           "#FF97FF",
           "#FECB52"
          ],
          "font": {
           "color": "#2a3f5f"
          },
          "geo": {
           "bgcolor": "white",
           "lakecolor": "white",
           "landcolor": "#E5ECF6",
           "showlakes": true,
           "showland": true,
           "subunitcolor": "white"
          },
          "hoverlabel": {
           "align": "left"
          },
          "hovermode": "closest",
          "mapbox": {
           "style": "light"
          },
          "paper_bgcolor": "white",
          "plot_bgcolor": "#E5ECF6",
          "polar": {
           "angularaxis": {
            "gridcolor": "white",
            "linecolor": "white",
            "ticks": ""
           },
           "bgcolor": "#E5ECF6",
           "radialaxis": {
            "gridcolor": "white",
            "linecolor": "white",
            "ticks": ""
           }
          },
          "scene": {
           "xaxis": {
            "backgroundcolor": "#E5ECF6",
            "gridcolor": "white",
            "gridwidth": 2,
            "linecolor": "white",
            "showbackground": true,
            "ticks": "",
            "zerolinecolor": "white"
           },
           "yaxis": {
            "backgroundcolor": "#E5ECF6",
            "gridcolor": "white",
            "gridwidth": 2,
            "linecolor": "white",
            "showbackground": true,
            "ticks": "",
            "zerolinecolor": "white"
           },
           "zaxis": {
            "backgroundcolor": "#E5ECF6",
            "gridcolor": "white",
            "gridwidth": 2,
            "linecolor": "white",
            "showbackground": true,
            "ticks": "",
            "zerolinecolor": "white"
           }
          },
          "shapedefaults": {
           "line": {
            "color": "#2a3f5f"
           }
          },
          "ternary": {
           "aaxis": {
            "gridcolor": "white",
            "linecolor": "white",
            "ticks": ""
           },
           "baxis": {
            "gridcolor": "white",
            "linecolor": "white",
            "ticks": ""
           },
           "bgcolor": "#E5ECF6",
           "caxis": {
            "gridcolor": "white",
            "linecolor": "white",
            "ticks": ""
           }
          },
          "title": {
           "x": 0.05
          },
          "xaxis": {
           "automargin": true,
           "gridcolor": "white",
           "linecolor": "white",
           "ticks": "",
           "title": {
            "standoff": 15
           },
           "zerolinecolor": "white",
           "zerolinewidth": 2
          },
          "yaxis": {
           "automargin": true,
           "gridcolor": "white",
           "linecolor": "white",
           "ticks": "",
           "title": {
            "standoff": 15
           },
           "zerolinecolor": "white",
           "zerolinewidth": 2
          }
         }
        }
       }
      },
      "image/png": "[encoded data removed]",
      "text/html": [
       "<div>                            <div id=\"3e302c30-0e39-43ca-957e-2d3f0f210690\" class=\"plotly-graph-div\" style=\"height:525px; width:100%;\"></div>            <script type=\"text/javascript\">                require([\"plotly\"], function(Plotly) {                    window.PLOTLYENV=window.PLOTLYENV || {};                                    if (document.getElementById(\"3e302c30-0e39-43ca-957e-2d3f0f210690\")) {                    Plotly.newPlot(                        \"3e302c30-0e39-43ca-957e-2d3f0f210690\",                        [{\"dimensions\":[{\"label\":\"Population Density\",\"values\":[150.777,143.701,69.413,22.662,295.15,47.237,21.841,null,64.699,212.865,21.188,231.845,98.567,19347.5,212.841,281.787,237.012,437.352,18.206,317.132,11.833,556.667,49.127,16.955,66.191,104.7,44.304,81.347,664.463,53.508,207.566,293.187,7.479,3.404,45.194,null,7039.714,41.285,51.667,70.151,15.405,73.562,15.196,163.755,622.962,null,423.062,64.281,87.176,18.22,16.426,23.5,39.497,208.354,398.448,29.715,99.11,143.366,7.859,51.755,3.952,null,4.289,1454.037,135.58,23.258,3.612,43.951,79.492,266.886,49.562,23.89,35.879,76.399,197.519,82.328,231.447,266.879,1454.433,50.885,7915.731,147.674,494.869,3.202,307.811,90.672,127.657,213.759,126.719,3.078,42.729,46.28,18.136,37.728,31.033,54.422,31.212,168.155,104.871,76.134,4.044,32.333,14.462,82.6,17.348,209.588,22.995,68.496,227.322,87.324,102.931,1935.907,102.619,123.655,1.98,97.999,14.98,527.967,45.135,3.623,104.957,222.873,136.52,82.805,36.253,69.874,19.751,778.202,73.726,113.128,232.128,81.721,17.144,55.133,119.309,65.18,10.202,66.939,341.955,96.079,46.858,15.322,157.834,65.032,594.561,83.479,74.228,112.442,106.749,308.127,204.43,109.285,108.043,214.243,110.408,80.291,80.08,6.681,112.371,24.718,85.129,375.564,255.573,402.606,1265.036,135.132,4.037,24.282,137.176,347.778,88.125,508.544,25.129,96.254,351.873,77.39,46.754,124.027,66.444,237.016,145.725,205.859,93.105,44.223,16.177,49.831,104.914,122.578,8.823,272.898,25.04,450.419,35.608]},{\"label\":\"location\",\"values\":[\"Micronesia (country)\",\"Kiribati\",\"Samoa\",\"Vanuatu\",\"Marshall Islands\",\"Palau\",\"Solomon Islands\",\"Vatican\",\"Tanzania\",\"Saint Kitts and Nevis\",\"Bhutan\",\"Antigua and Barbuda\",\"Dominica\",\"Monaco\",\"Sao Tome and Principe\",\"Saint Vincent and the Grenadines\",\"Liechtenstein\",\"Comoros\",\"New Zealand\",\"Grenada\",\"Chad\",\"San Marino\",\"Liberia\",\"Niger\",\"Guinea-Bissau\",\"Sierra Leone\",\"Eritrea\",\"Brunei\",\"Barbados\",\"Yemen\",\"Gambia\",\"Saint Lucia\",\"Central African Republic\",\"Iceland\",\"Equatorial Guinea\",\"South Sudan\",\"Hong Kong\",\"Djibouti\",\"Nicaragua\",\"Burkina Faso\",\"Congo\",\"Lesotho\",\"Mali\",\"Andorra\",\"Mauritius\",\"Taiwan\",\"Burundi\",\"Tajikistan\",\"Timor\",\"Papua New Guinea\",\"Belize\",\"Somalia\",\"Bahamas\",\"Seychelles\",\"Haiti\",\"Laos\",\"Benin\",\"Togo\",\"Gabon\",\"Guinea\",\"Guyana\",\"Syria\",\"Mauritania\",\"Malta\",\"Cape Verde\",\"Sudan\",\"Suriname\",\"Madagascar\",\"Eswatini\",\"Trinidad and Tobago\",\"Fiji\",\"Angola\",\"Democratic Republic of Congo\",\"Cote d'Ivoire\",\"Malawi\",\"Senegal\",\"Luxembourg\",\"Jamaica\",\"Maldives\",\"Cameroon\",\"Singapore\",\"China\",\"Rwanda\",\"Australia\",\"El Salvador\",\"Cambodia\",\"Cyprus\",\"Uganda\",\"Ghana\",\"Namibia\",\"Zimbabwe\",\"Montenegro\",\"Finland\",\"Mozambique\",\"Estonia\",\"Afghanistan\",\"Latvia\",\"Kosovo\",\"Albania\",\"Uzbekistan\",\"Botswana\",\"Kyrgyzstan\",\"Norway\",\"North Macedonia\",\"Algeria\",\"Nigeria\",\"Zambia\",\"Bosnia and Herzegovina\",\"Qatar\",\"Kenya\",\"Armenia\",\"Bahrain\",\"Slovenia\",\"Moldova\",\"Mongolia\",\"Egypt\",\"Oman\",\"South Korea\",\"Lithuania\",\"Libya\",\"Ethiopia\",\"Dominican Republic\",\"Denmark\",\"Honduras\",\"Venezuela\",\"Ireland\",\"Uruguay\",\"Palestine\",\"Croatia\",\"Slovakia\",\"Kuwait\",\"Myanmar\",\"Paraguay\",\"Panama\",\"Azerbaijan\",\"Bulgaria\",\"Bolivia\",\"Ecuador\",\"Sri Lanka\",\"Costa Rica\",\"Belarus\",\"Saudi Arabia\",\"Guatemala\",\"Georgia\",\"Lebanon\",\"Greece\",\"Tunisia\",\"United Arab Emirates\",\"Austria\",\"Vietnam\",\"Nepal\",\"Jordan\",\"Hungary\",\"Switzerland\",\"Cuba\",\"Serbia\",\"Morocco\",\"Kazakhstan\",\"Portugal\",\"Sweden\",\"Romania\",\"Belgium\",\"Pakistan\",\"Israel\",\"Bangladesh\",\"Thailand\",\"Canada\",\"Chile\",\"Czechia\",\"Japan\",\"Iraq\",\"Netherlands\",\"Peru\",\"Malaysia\",\"Philippines\",\"Ukraine\",\"South Africa\",\"Poland\",\"Mexico\",\"Germany\",\"Indonesia\",\"Italy\",\"Spain\",\"Colombia\",\"Argentina\",\"Iran\",\"Turkey\",\"France\",\"Russia\",\"United Kingdom\",\"Brazil\",\"India\",\"United States\"]},{\"label\":\"Total Number of Cases\",\"values\":[1.0,2.0,3.0,4.0,4.0,5.0,20.0,27.0,1367.0,1872.0,2599.0,2923.0,3293.0,3303.0,3349.0,3359.0,3445.0,4128.0,4205.0,5005.0,5034.0,5428.0,5794.0,5990.0,6099.0,6393.0,6694.0,6700.0,7764.0,8988.0,9930.0,11231.0,11371.0,11722.0,11806.0,11954.0,12196.0,12253.0,13730.0,14183.0,14244.0,14395.0,15165.0,15189.0,15391.0,16198.0,16356.0,17484.0,19398.0,19523.0,19945.0,19980.0,20775.0,21374.0,21540.0,22441.0,22958.0,25252.0,29515.0,30364.0,31236.0,33323.0,35889.0,37103.0,37472.0,38201.0,40476.0,42898.0,45812.0,50055.0,50807.0,55583.0,56862.0,59977.0,61517.0,73747.0,77930.0,83030.0,84484.0,85414.0,89539.0,96148.0,96982.0,100911.0,104348.0,109926.0,118181.0,123245.0,127016.0,127373.0,129919.0,129990.0,139678.0,150540.0,153926.0,155072.0,155076.0,159893.0,168188.0,172493.0,178050.0,178317.0,187593.0,189999.0,202877.0,204752.0,208867.0,232237.0,236388.0,248515.0,259007.0,274877.0,289955.0,290043.0,298919.0,302327.0,303673.0,305842.0,326654.0,337890.0,342305.0,357517.0,359062.0,363106.0,363300.0,385721.0,388572.0,398946.0,400108.0,408609.0,411533.0,459436.0,459828.0,466357.0,481401.0,495397.0,499202.0,508655.0,514592.0,525999.0,532149.0,546985.0,550333.0,607155.0,622440.0,648091.0,705474.0,735180.0,737202.0,766051.0,792367.0,820798.0,821261.0,836483.0,860799.0,917802.0,929699.0,956025.0,1067175.0,1149407.0,1199761.0,1238358.0,1241825.0,1270230.0,1552563.0,1571926.0,1620537.0,1652364.0,1689620.0,1696971.0,1996214.0,2035980.0,2173354.0,2209194.0,2490858.0,2503710.0,2897521.0,2903655.0,3635807.0,4209098.0,4209403.0,4662087.0,4951640.0,4952690.0,5251940.0,5547990.0,7066658.0,7087110.0,7334843.0,7737941.0,21366395.0,33697581.0,43116442.0]}],\"domain\":{\"x\":[0.0,1.0],\"y\":[0.0,1.0]},\"line\":{\"color\":[3299.464,1981.132,6021.557,2921.909,3819.202,13240.405,2205.923,null,2683.304,24654.385,8708.597,21490.943,9673.367,null,3052.714,10727.146,null,1413.89,36085.843,13593.877,1768.153,56861.47,752.788,926.0,1548.675,1390.3,1510.459,71809.251,16978.068,1479.147,1561.767,12951.839,661.24,46482.958,22604.873,1569.888,56054.92,2705.406,5321.444,1703.102,4881.406,2851.153,2014.306,null,20292.745,null,702.225,2896.913,6570.102,3823.194,7824.362,null,27717.847,26382.287,1653.173,6397.36,2064.236,1429.813,16562.413,1998.926,7435.047,null,3597.633,36513.323,6222.554,4466.507,13767.119,1416.44,7738.975,28763.071,8702.975,5819.495,808.133,3601.006,1095.042,2470.58,94277.965,8193.571,15183.616,3364.926,85535.383,15308.712,1854.211,44648.71,7292.458,3645.07,32415.132,1697.707,4227.63,9541.808,1899.775,16409.288,40585.721,1136.103,29481.252,1803.987,25063.846,9795.834,11803.431,6253.104,15807.374,3393.474,64800.057,13111.214,13913.839,5338.454,3689.251,11713.895,116935.6,2993.028,8787.58,43290.705,31400.84,5189.972,11840.846,10550.206,37960.709,35938.374,29524.265,17881.509,1729.927,14600.861,46682.515,4541.795,16745.022,67335.293,20551.409,4449.898,22669.797,30155.152,65530.537,5591.597,8827.01,22267.037,15847.419,18563.307,6885.829,10581.936,11669.077,15524.995,17167.967,49045.411,7423.808,9745.079,13367.565,24574.382,10849.297,67293.483,45436.686,6171.884,2442.804,8337.49,26777.561,57410.166,null,14048.881,7485.013,24055.588,27936.896,46949.283,23313.199,42658.576,5034.708,33132.32,3523.984,16277.671,44017.591,22767.037,32605.906,39002.223,15663.986,48472.545,12236.706,26808.164,7599.188,7894.393,12294.876,27216.445,17336.469,45229.245,11188.744,35220.084,34272.36,13254.949,18933.907,19082.62,25129.341,38605.671,24765.954,39753.244,14103.452,6426.674,54225.446],\"coloraxis\":\"coloraxis\"},\"name\":\"\",\"type\":\"parcats\"}],                        {\"coloraxis\":{\"colorbar\":{\"title\":{\"text\":\"gdp_per_capita\"}},\"colorscale\":[[0.0,\"#000004\"],[0.1111111111111111,\"#1b0c41\"],[0.2222222222222222,\"#4a0c6b\"],[0.3333333333333333,\"#781c6d\"],[0.4444444444444444,\"#a52c60\"],[0.5555555555555556,\"#cf4446\"],[0.6666666666666666,\"#ed6925\"],[0.7777777777777778,\"#fb9b06\"],[0.8888888888888888,\"#f7d13d\"],[1.0,\"#fcffa4\"]]},\"legend\":{\"tracegroupgap\":0},\"margin\":{\"t\":60},\"template\":{\"data\":{\"bar\":[{\"error_x\":{\"color\":\"#2a3f5f\"},\"error_y\":{\"color\":\"#2a3f5f\"},\"marker\":{\"line\":{\"color\":\"#E5ECF6\",\"width\":0.5},\"pattern\":{\"fillmode\":\"overlay\",\"size\":10,\"solidity\":0.2}},\"type\":\"bar\"}],\"barpolar\":[{\"marker\":{\"line\":{\"color\":\"#E5ECF6\",\"width\":0.5},\"pattern\":{\"fillmode\":\"overlay\",\"size\":10,\"solidity\":0.2}},\"type\":\"barpolar\"}],\"carpet\":[{\"aaxis\":{\"endlinecolor\":\"#2a3f5f\",\"gridcolor\":\"white\",\"linecolor\":\"white\",\"minorgridcolor\":\"white\",\"startlinecolor\":\"#2a3f5f\"},\"baxis\":{\"endlinecolor\":\"#2a3f5f\",\"gridcolor\":\"white\",\"linecolor\":\"white\",\"minorgridcolor\":\"white\",\"startlinecolor\":\"#2a3f5f\"},\"type\":\"carpet\"}],\"choropleth\":[{\"colorbar\":{\"outlinewidth\":0,\"ticks\":\"\"},\"type\":\"choropleth\"}],\"contour\":[{\"colorbar\":{\"outlinewidth\":0,\"ticks\":\"\"},\"colorscale\":[[0.0,\"#0d0887\"],[0.1111111111111111,\"#46039f\"],[0.2222222222222222,\"#7201a8\"],[0.3333333333333333,\"#9c179e\"],[0.4444444444444444,\"#bd3786\"],[0.5555555555555556,\"#d8576b\"],[0.6666666666666666,\"#ed7953\"],[0.7777777777777778,\"#fb9f3a\"],[0.8888888888888888,\"#fdca26\"],[1.0,\"#f0f921\"]],\"type\":\"contour\"}],\"contourcarpet\":[{\"colorbar\":{\"outlinewidth\":0,\"ticks\":\"\"},\"type\":\"contourcarpet\"}],\"heatmap\":[{\"colorbar\":{\"outlinewidth\":0,\"ticks\":\"\"},\"colorscale\":[[0.0,\"#0d0887\"],[0.1111111111111111,\"#46039f\"],[0.2222222222222222,\"#7201a8\"],[0.3333333333333333,\"#9c179e\"],[0.4444444444444444,\"#bd3786\"],[0.5555555555555556,\"#d8576b\"],[0.6666666666666666,\"#ed7953\"],[0.7777777777777778,\"#fb9f3a\"],[0.8888888888888888,\"#fdca26\"],[1.0,\"#f0f921\"]],\"type\":\"heatmap\"}],\"heatmapgl\":[{\"colorbar\":{\"outlinewidth\":0,\"ticks\":\"\"},\"colorscale\":[[0.0,\"#0d0887\"],[0.1111111111111111,\"#46039f\"],[0.2222222222222222,\"#7201a8\"],[0.3333333333333333,\"#9c179e\"],[0.4444444444444444,\"#bd3786\"],[0.5555555555555556,\"#d8576b\"],[0.6666666666666666,\"#ed7953\"],[0.7777777777777778,\"#fb9f3a\"],[0.8888888888888888,\"#fdca26\"],[1.0,\"#f0f921\"]],\"type\":\"heatmapgl\"}],\"histogram\":[{\"marker\":{\"pattern\":{\"fillmode\":\"overlay\",\"size\":10,\"solidity\":0.2}},\"type\":\"histogram\"}],\"histogram2d\":[{\"colorbar\":{\"outlinewidth\":0,\"ticks\":\"\"},\"colorscale\":[[0.0,\"#0d0887\"],[0.1111111111111111,\"#46039f\"],[0.2222222222222222,\"#7201a8\"],[0.3333333333333333,\"#9c179e\"],[0.4444444444444444,\"#bd3786\"],[0.5555555555555556,\"#d8576b\"],[0.6666666666666666,\"#ed7953\"],[0.7777777777777778,\"#fb9f3a\"],[0.8888888888888888,\"#fdca26\"],[1.0,\"#f0f921\"]],\"type\":\"histogram2d\"}],\"histogram2dcontour\":[{\"colorbar\":{\"outlinewidth\":0,\"ticks\":\"\"},\"colorscale\":[[0.0,\"#0d0887\"],[0.1111111111111111,\"#46039f\"],[0.2222222222222222,\"#7201a8\"],[0.3333333333333333,\"#9c179e\"],[0.4444444444444444,\"#bd3786\"],[0.5555555555555556,\"#d8576b\"],[0.6666666666666666,\"#ed7953\"],[0.7777777777777778,\"#fb9f3a\"],[0.8888888888888888,\"#fdca26\"],[1.0,\"#f0f921\"]],\"type\":\"histogram2dcontour\"}],\"mesh3d\":[{\"colorbar\":{\"outlinewidth\":0,\"ticks\":\"\"},\"type\":\"mesh3d\"}],\"parcoords\":[{\"line\":{\"colorbar\":{\"outlinewidth\":0,\"ticks\":\"\"}},\"type\":\"parcoords\"}],\"pie\":[{\"automargin\":true,\"type\":\"pie\"}],\"scatter\":[{\"marker\":{\"colorbar\":{\"outlinewidth\":0,\"ticks\":\"\"}},\"type\":\"scatter\"}],\"scatter3d\":[{\"line\":{\"colorbar\":{\"outlinewidth\":0,\"ticks\":\"\"}},\"marker\":{\"colorbar\":{\"outlinewidth\":0,\"ticks\":\"\"}},\"type\":\"scatter3d\"}],\"scattercarpet\":[{\"marker\":{\"colorbar\":{\"outlinewidth\":0,\"ticks\":\"\"}},\"type\":\"scattercarpet\"}],\"scattergeo\":[{\"marker\":{\"colorbar\":{\"outlinewidth\":0,\"ticks\":\"\"}},\"type\":\"scattergeo\"}],\"scattergl\":[{\"marker\":{\"colorbar\":{\"outlinewidth\":0,\"ticks\":\"\"}},\"type\":\"scattergl\"}],\"scattermapbox\":[{\"marker\":{\"colorbar\":{\"outlinewidth\":0,\"ticks\":\"\"}},\"type\":\"scattermapbox\"}],\"scatterpolar\":[{\"marker\":{\"colorbar\":{\"outlinewidth\":0,\"ticks\":\"\"}},\"type\":\"scatterpolar\"}],\"scatterpolargl\":[{\"marker\":{\"colorbar\":{\"outlinewidth\":0,\"ticks\":\"\"}},\"type\":\"scatterpolargl\"}],\"scatterternary\":[{\"marker\":{\"colorbar\":{\"outlinewidth\":0,\"ticks\":\"\"}},\"type\":\"scatterternary\"}],\"surface\":[{\"colorbar\":{\"outlinewidth\":0,\"ticks\":\"\"},\"colorscale\":[[0.0,\"#0d0887\"],[0.1111111111111111,\"#46039f\"],[0.2222222222222222,\"#7201a8\"],[0.3333333333333333,\"#9c179e\"],[0.4444444444444444,\"#bd3786\"],[0.5555555555555556,\"#d8576b\"],[0.6666666666666666,\"#ed7953\"],[0.7777777777777778,\"#fb9f3a\"],[0.8888888888888888,\"#fdca26\"],[1.0,\"#f0f921\"]],\"type\":\"surface\"}],\"table\":[{\"cells\":{\"fill\":{\"color\":\"#EBF0F8\"},\"line\":{\"color\":\"white\"}},\"header\":{\"fill\":{\"color\":\"#C8D4E3\"},\"line\":{\"color\":\"white\"}},\"type\":\"table\"}]},\"layout\":{\"annotationdefaults\":{\"arrowcolor\":\"#2a3f5f\",\"arrowhead\":0,\"arrowwidth\":1},\"autotypenumbers\":\"strict\",\"coloraxis\":{\"colorbar\":{\"outlinewidth\":0,\"ticks\":\"\"}},\"colorscale\":{\"diverging\":[[0,\"#8e0152\"],[0.1,\"#c51b7d\"],[0.2,\"#de77ae\"],[0.3,\"#f1b6da\"],[0.4,\"#fde0ef\"],[0.5,\"#f7f7f7\"],[0.6,\"#e6f5d0\"],[0.7,\"#b8e186\"],[0.8,\"#7fbc41\"],[0.9,\"#4d9221\"],[1,\"#276419\"]],\"sequential\":[[0.0,\"#0d0887\"],[0.1111111111111111,\"#46039f\"],[0.2222222222222222,\"#7201a8\"],[0.3333333333333333,\"#9c179e\"],[0.4444444444444444,\"#bd3786\"],[0.5555555555555556,\"#d8576b\"],[0.6666666666666666,\"#ed7953\"],[0.7777777777777778,\"#fb9f3a\"],[0.8888888888888888,\"#fdca26\"],[1.0,\"#f0f921\"]],\"sequentialminus\":[[0.0,\"#0d0887\"],[0.1111111111111111,\"#46039f\"],[0.2222222222222222,\"#7201a8\"],[0.3333333333333333,\"#9c179e\"],[0.4444444444444444,\"#bd3786\"],[0.5555555555555556,\"#d8576b\"],[0.6666666666666666,\"#ed7953\"],[0.7777777777777778,\"#fb9f3a\"],[0.8888888888888888,\"#fdca26\"],[1.0,\"#f0f921\"]]},\"colorway\":[\"#636efa\",\"#EF553B\",\"#00cc96\",\"#ab63fa\",\"#FFA15A\",\"#19d3f3\",\"#FF6692\",\"#B6E880\",\"#FF97FF\",\"#FECB52\"],\"font\":{\"color\":\"#2a3f5f\"},\"geo\":{\"bgcolor\":\"white\",\"lakecolor\":\"white\",\"landcolor\":\"#E5ECF6\",\"showlakes\":true,\"showland\":true,\"subunitcolor\":\"white\"},\"hoverlabel\":{\"align\":\"left\"},\"hovermode\":\"closest\",\"mapbox\":{\"style\":\"light\"},\"paper_bgcolor\":\"white\",\"plot_bgcolor\":\"#E5ECF6\",\"polar\":{\"angularaxis\":{\"gridcolor\":\"white\",\"linecolor\":\"white\",\"ticks\":\"\"},\"bgcolor\":\"#E5ECF6\",\"radialaxis\":{\"gridcolor\":\"white\",\"linecolor\":\"white\",\"ticks\":\"\"}},\"scene\":{\"xaxis\":{\"backgroundcolor\":\"#E5ECF6\",\"gridcolor\":\"white\",\"gridwidth\":2,\"linecolor\":\"white\",\"showbackground\":true,\"ticks\":\"\",\"zerolinecolor\":\"white\"},\"yaxis\":{\"backgroundcolor\":\"#E5ECF6\",\"gridcolor\":\"white\",\"gridwidth\":2,\"linecolor\":\"white\",\"showbackground\":true,\"ticks\":\"\",\"zerolinecolor\":\"white\"},\"zaxis\":{\"backgroundcolor\":\"#E5ECF6\",\"gridcolor\":\"white\",\"gridwidth\":2,\"linecolor\":\"white\",\"showbackground\":true,\"ticks\":\"\",\"zerolinecolor\":\"white\"}},\"shapedefaults\":{\"line\":{\"color\":\"#2a3f5f\"}},\"ternary\":{\"aaxis\":{\"gridcolor\":\"white\",\"linecolor\":\"white\",\"ticks\":\"\"},\"baxis\":{\"gridcolor\":\"white\",\"linecolor\":\"white\",\"ticks\":\"\"},\"bgcolor\":\"#E5ECF6\",\"caxis\":{\"gridcolor\":\"white\",\"linecolor\":\"white\",\"ticks\":\"\"}},\"title\":{\"x\":0.05},\"xaxis\":{\"automargin\":true,\"gridcolor\":\"white\",\"linecolor\":\"white\",\"ticks\":\"\",\"title\":{\"standoff\":15},\"zerolinecolor\":\"white\",\"zerolinewidth\":2},\"yaxis\":{\"automargin\":true,\"gridcolor\":\"white\",\"linecolor\":\"white\",\"ticks\":\"\",\"title\":{\"standoff\":15},\"zerolinecolor\":\"white\",\"zerolinewidth\":2}}}},                        {\"responsive\": true}                    ).then(function(){\n",
       "                            \n",
       "var gd = document.getElementById('3e302c30-0e39-43ca-957e-2d3f0f210690');\n",
       "var x = new MutationObserver(function (mutations, observer) {{\n",
       "        var display = window.getComputedStyle(gd).display;\n",
       "        if (!display || display === 'none') {{\n",
       "            console.log([gd, 'removed!']);\n",
       "            Plotly.purge(gd);\n",
       "            observer.disconnect();\n",
       "        }}\n",
       "}});\n",
       "\n",
       "// Listen for the removal of the full notebook cells\n",
       "var notebookContainer = gd.closest('#notebook-container');\n",
       "if (notebookContainer) {{\n",
       "    x.observe(notebookContainer, {childList: true});\n",
       "}}\n",
       "\n",
       "// Listen for the clearing of the current output cell\n",
       "var outputEl = gd.closest('.output');\n",
       "if (outputEl) {{\n",
       "    x.observe(outputEl, {childList: true});\n",
       "}}\n",
       "\n",
       "                        })                };                });            </script>        </div>"
      ]
     },
     "metadata": {},
     "output_type": "display_data"
    }
   ],
   "source": [
    "parallel_categories = px.parallel_categories(\n",
    "    continent,\n",
    "    dimensions=[\"population_density\",'location', \"total_cases\"],\n",
    "    color=\"gdp_per_capita\",\n",
    "    color_continuous_scale=px.colors.sequential.Inferno,\n",
    "    labels={\n",
    "        \"population_density\": \"Population Density\",\n",
    "        \"total_cases\": \"Total Number of Cases\",\n",
    "        #\"gdp_per_capita\": \"GDP per capita\",\n",
    "    },\n",
    ")\n",
    "parallel_categories\n"
   ]
  },
  {
   "cell_type": "code",
   "execution_count": 243,
   "metadata": {},
   "outputs": [
    {
     "data": {
      "application/vnd.plotly.v1+json": {
       "config": {
        "plotlyServerURL": "https://plot.ly"
       },
       "data": [
        {
         "dimensions": [
          {
           "label": "total_cases",
           "values": [
            289955,
            127373,
            735180,
            7066658,
            236388,
            459436,
            1067175,
            7087110,
            2173354,
            622440,
            5005,
            5,
            19398,
            298919,
            766051,
            705474,
            172493,
            12253,
            363106,
            42898,
            11722,
            737202,
            159893,
            385721,
            50807,
            860799,
            21540,
            6099,
            3349,
            21366395,
            35889,
            648091,
            11371,
            77930,
            21374,
            1241825,
            61517,
            17484,
            363300,
            6694,
            13730,
            155076,
            208867,
            4,
            259007,
            1996214,
            6700,
            2035980,
            2490858,
            481401,
            4128,
            1149407,
            2923,
            836483,
            56862,
            150540,
            4205,
            2503710,
            33323,
            50055,
            55583,
            1696971,
            248515,
            232237,
            11231,
            1571926,
            1620537,
            187593,
            22958,
            2897521,
            29515,
            4,
            16198,
            14244,
            189999,
            820798,
            178317,
            104348,
            204752,
            8988,
            917802,
            11954,
            607155,
            1367,
            20775,
            7764,
            15189,
            4209098,
            38201,
            342305,
            43116442,
            303673,
            30364,
            326654,
            22441,
            1,
            153926,
            129919,
            2,
            5547990,
            5794,
            139678,
            400108,
            398946,
            3,
            388572,
            33697581,
            5428,
            532149,
            127016,
            27,
            3293,
            956025,
            290043,
            302327,
            19980,
            408609,
            1238358,
            178050,
            168188,
            25252,
            19523,
            16356,
            59977,
            7334843,
            96148,
            5251940,
            459828,
            14395,
            929699,
            129990,
            337890,
            495397,
            466357,
            2599,
            6393,
            5034,
            19945,
            1552563,
            14183,
            3359,
            792367,
            45812,
            37103,
            155072,
            40476,
            2903655,
            4662087,
            1872,
            7737941,
            357517,
            118181,
            73747,
            1689620,
            15165,
            821261,
            305842,
            123245,
            525999,
            1652364,
            546985,
            3445,
            411533,
            96982,
            3303,
            2209194,
            9930,
            11806,
            15391,
            109926,
            89539,
            359062,
            499202,
            202877,
            508655,
            4209403,
            1199761,
            514592,
            274877,
            37472,
            84484,
            100911,
            1270230,
            12196,
            20,
            85414,
            3635807,
            31236,
            550333,
            4951640,
            5990,
            83030,
            4952690
           ]
          },
          {
           "label": "population_density",
           "values": [
            150.777,
            143.701,
            69.413,
            22.662,
            295.15,
            47.237,
            21.841,
            null,
            64.699,
            212.865,
            21.188,
            231.845,
            98.567,
            19347.5,
            212.841,
            281.787,
            237.012,
            437.352,
            18.206,
            317.132,
            11.833,
            556.667,
            49.127,
            16.955,
            66.191,
            104.7,
            44.304,
            81.347,
            664.463,
            53.508,
            207.566,
            293.187,
            7.479,
            3.404,
            45.194,
            null,
            7039.714,
            41.285,
            51.667,
            70.151,
            15.405,
            73.562,
            15.196,
            163.755,
            622.962,
            null,
            423.062,
            64.281,
            87.176,
            18.22,
            16.426,
            23.5,
            39.497,
            208.354,
            398.448,
            29.715,
            99.11,
            143.366,
            7.859,
            51.755,
            3.952,
            null,
            4.289,
            1454.037,
            135.58,
            23.258,
            3.612,
            43.951,
            79.492,
            266.886,
            49.562,
            23.89,
            35.879,
            76.399,
            197.519,
            82.328,
            231.447,
            266.879,
            1454.433,
            50.885,
            7915.731,
            147.674,
            494.869,
            3.202,
            307.811,
            90.672,
            127.657,
            213.759,
            126.719,
            3.078,
            42.729,
            46.28,
            18.136,
            37.728,
            31.033,
            54.422,
            31.212,
            168.155,
            104.871,
            76.134,
            4.044,
            32.333,
            14.462,
            82.6,
            17.348,
            209.588,
            22.995,
            68.496,
            227.322,
            87.324,
            102.931,
            1935.907,
            102.619,
            123.655,
            1.98,
            97.999,
            14.98,
            527.967,
            45.135,
            3.623,
            104.957,
            222.873,
            136.52,
            82.805,
            36.253,
            69.874,
            19.751,
            778.202,
            73.726,
            113.128,
            232.128,
            81.721,
            17.144,
            55.133,
            119.309,
            65.18,
            10.202,
            66.939,
            341.955,
            96.079,
            46.858,
            15.322,
            157.834,
            65.032,
            594.561,
            83.479,
            74.228,
            112.442,
            106.749,
            308.127,
            204.43,
            109.285,
            108.043,
            214.243,
            110.408,
            80.291,
            80.08,
            6.681,
            112.371,
            24.718,
            85.129,
            375.564,
            255.573,
            402.606,
            1265.036,
            135.132,
            4.037,
            24.282,
            137.176,
            347.778,
            88.125,
            508.544,
            25.129,
            96.254,
            351.873,
            77.39,
            46.754,
            124.027,
            66.444,
            237.016,
            145.725,
            205.859,
            93.105,
            44.223,
            16.177,
            49.831,
            104.914,
            122.578,
            8.823,
            272.898,
            25.04,
            450.419,
            35.608
           ]
          },
          {
           "label": "gdp_per_capita",
           "values": [
            3299.464,
            1981.132,
            6021.557,
            2921.909,
            3819.202,
            13240.405,
            2205.923,
            null,
            2683.304,
            24654.385,
            8708.597,
            21490.943,
            9673.367,
            null,
            3052.714,
            10727.146,
            null,
            1413.89,
            36085.843,
            13593.877,
            1768.153,
            56861.47,
            752.788,
            926,
            1548.675,
            1390.3,
            1510.459,
            71809.251,
            16978.068,
            1479.147,
            1561.767,
            12951.839,
            661.24,
            46482.958,
            22604.873,
            1569.888,
            56054.92,
            2705.406,
            5321.444,
            1703.102,
            4881.406,
            2851.153,
            2014.306,
            null,
            20292.745,
            null,
            702.225,
            2896.913,
            6570.102,
            3823.194,
            7824.362,
            null,
            27717.847,
            26382.287,
            1653.173,
            6397.36,
            2064.236,
            1429.813,
            16562.413,
            1998.926,
            7435.047,
            null,
            3597.633,
            36513.323,
            6222.554,
            4466.507,
            13767.119,
            1416.44,
            7738.975,
            28763.071,
            8702.975,
            5819.495,
            808.133,
            3601.006,
            1095.042,
            2470.58,
            94277.965,
            8193.571,
            15183.616,
            3364.926,
            85535.383,
            15308.712,
            1854.211,
            44648.71,
            7292.458,
            3645.07,
            32415.132,
            1697.707,
            4227.63,
            9541.808,
            1899.775,
            16409.288,
            40585.721,
            1136.103,
            29481.252,
            1803.987,
            25063.846,
            9795.834,
            11803.431,
            6253.104,
            15807.374,
            3393.474,
            64800.057,
            13111.214,
            13913.839,
            5338.454,
            3689.251,
            11713.895,
            116935.6,
            2993.028,
            8787.58,
            43290.705,
            31400.84,
            5189.972,
            11840.846,
            10550.206,
            37960.709,
            35938.374,
            29524.265,
            17881.509,
            1729.927,
            14600.861,
            46682.515,
            4541.795,
            16745.022,
            67335.293,
            20551.409,
            4449.898,
            22669.797,
            30155.152,
            65530.537,
            5591.597,
            8827.01,
            22267.037,
            15847.419,
            18563.307,
            6885.829,
            10581.936,
            11669.077,
            15524.995,
            17167.967,
            49045.411,
            7423.808,
            9745.079,
            13367.565,
            24574.382,
            10849.297,
            67293.483,
            45436.686,
            6171.884,
            2442.804,
            8337.49,
            26777.561,
            57410.166,
            null,
            14048.881,
            7485.013,
            24055.588,
            27936.896,
            46949.283,
            23313.199,
            42658.576,
            5034.708,
            33132.32,
            3523.984,
            16277.671,
            44017.591,
            22767.037,
            32605.906,
            39002.223,
            15663.986,
            48472.545,
            12236.706,
            26808.164,
            7599.188,
            7894.393,
            12294.876,
            27216.445,
            17336.469,
            45229.245,
            11188.744,
            35220.084,
            34272.36,
            13254.949,
            18933.907,
            19082.62,
            25129.341,
            38605.671,
            24765.954,
            39753.244,
            14103.452,
            6426.674,
            54225.446
           ]
          }
         ],
         "domain": {
          "x": [
           0,
           1
          ],
          "y": [
           0,
           1
          ]
         },
         "line": {
          "color": [
           289955,
           127373,
           735180,
           7066658,
           236388,
           459436,
           1067175,
           7087110,
           2173354,
           622440,
           5005,
           5,
           19398,
           298919,
           766051,
           705474,
           172493,
           12253,
           363106,
           42898,
           11722,
           737202,
           159893,
           385721,
           50807,
           860799,
           21540,
           6099,
           3349,
           21366395,
           35889,
           648091,
           11371,
           77930,
           21374,
           1241825,
           61517,
           17484,
           363300,
           6694,
           13730,
           155076,
           208867,
           4,
           259007,
           1996214,
           6700,
           2035980,
           2490858,
           481401,
           4128,
           1149407,
           2923,
           836483,
           56862,
           150540,
           4205,
           2503710,
           33323,
           50055,
           55583,
           1696971,
           248515,
           232237,
           11231,
           1571926,
           1620537,
           187593,
           22958,
           2897521,
           29515,
           4,
           16198,
           14244,
           189999,
           820798,
           178317,
           104348,
           204752,
           8988,
           917802,
           11954,
           607155,
           1367,
           20775,
           7764,
           15189,
           4209098,
           38201,
           342305,
           43116442,
           303673,
           30364,
           326654,
           22441,
           1,
           153926,
           129919,
           2,
           5547990,
           5794,
           139678,
           400108,
           398946,
           3,
           388572,
           33697581,
           5428,
           532149,
           127016,
           27,
           3293,
           956025,
           290043,
           302327,
           19980,
           408609,
           1238358,
           178050,
           168188,
           25252,
           19523,
           16356,
           59977,
           7334843,
           96148,
           5251940,
           459828,
           14395,
           929699,
           129990,
           337890,
           495397,
           466357,
           2599,
           6393,
           5034,
           19945,
           1552563,
           14183,
           3359,
           792367,
           45812,
           37103,
           155072,
           40476,
           2903655,
           4662087,
           1872,
           7737941,
           357517,
           118181,
           73747,
           1689620,
           15165,
           821261,
           305842,
           123245,
           525999,
           1652364,
           546985,
           3445,
           411533,
           96982,
           3303,
           2209194,
           9930,
           11806,
           15391,
           109926,
           89539,
           359062,
           499202,
           202877,
           508655,
           4209403,
           1199761,
           514592,
           274877,
           37472,
           84484,
           100911,
           1270230,
           12196,
           20,
           85414,
           3635807,
           31236,
           550333,
           4951640,
           5990,
           83030,
           4952690
          ],
          "coloraxis": "coloraxis"
         },
         "name": "",
         "type": "parcoords"
        }
       ],
       "layout": {
        "autosize": true,
        "coloraxis": {
         "colorbar": {
          "title": {
           "text": "total_cases"
          }
         },
         "colorscale": [
          [
           0,
           "#0d0887"
          ],
          [
           0.1111111111111111,
           "#46039f"
          ],
          [
           0.2222222222222222,
           "#7201a8"
          ],
          [
           0.3333333333333333,
           "#9c179e"
          ],
          [
           0.4444444444444444,
           "#bd3786"
          ],
          [
           0.5555555555555556,
           "#d8576b"
          ],
          [
           0.6666666666666666,
           "#ed7953"
          ],
          [
           0.7777777777777778,
           "#fb9f3a"
          ],
          [
           0.8888888888888888,
           "#fdca26"
          ],
          [
           1,
           "#f0f921"
          ]
         ]
        },
        "legend": {
         "tracegroupgap": 0
        },
        "margin": {
         "t": 60
        },
        "template": {
         "data": {
          "bar": [
           {
            "error_x": {
             "color": "#2a3f5f"
            },
            "error_y": {
             "color": "#2a3f5f"
            },
            "marker": {
             "line": {
              "color": "#E5ECF6",
              "width": 0.5
             },
             "pattern": {
              "fillmode": "overlay",
              "size": 10,
              "solidity": 0.2
             }
            },
            "type": "bar"
           }
          ],
          "barpolar": [
           {
            "marker": {
             "line": {
              "color": "#E5ECF6",
              "width": 0.5
             },
             "pattern": {
              "fillmode": "overlay",
              "size": 10,
              "solidity": 0.2
             }
            },
            "type": "barpolar"
           }
          ],
          "carpet": [
           {
            "aaxis": {
             "endlinecolor": "#2a3f5f",
             "gridcolor": "white",
             "linecolor": "white",
             "minorgridcolor": "white",
             "startlinecolor": "#2a3f5f"
            },
            "baxis": {
             "endlinecolor": "#2a3f5f",
             "gridcolor": "white",
             "linecolor": "white",
             "minorgridcolor": "white",
             "startlinecolor": "#2a3f5f"
            },
            "type": "carpet"
           }
          ],
          "choropleth": [
           {
            "colorbar": {
             "outlinewidth": 0,
             "ticks": ""
            },
            "type": "choropleth"
           }
          ],
          "contour": [
           {
            "colorbar": {
             "outlinewidth": 0,
             "ticks": ""
            },
            "colorscale": [
             [
              0,
              "#0d0887"
             ],
             [
              0.1111111111111111,
              "#46039f"
             ],
             [
              0.2222222222222222,
              "#7201a8"
             ],
             [
              0.3333333333333333,
              "#9c179e"
             ],
             [
              0.4444444444444444,
              "#bd3786"
             ],
             [
              0.5555555555555556,
              "#d8576b"
             ],
             [
              0.6666666666666666,
              "#ed7953"
             ],
             [
              0.7777777777777778,
              "#fb9f3a"
             ],
             [
              0.8888888888888888,
              "#fdca26"
             ],
             [
              1,
              "#f0f921"
             ]
            ],
            "type": "contour"
           }
          ],
          "contourcarpet": [
           {
            "colorbar": {
             "outlinewidth": 0,
             "ticks": ""
            },
            "type": "contourcarpet"
           }
          ],
          "heatmap": [
           {
            "colorbar": {
             "outlinewidth": 0,
             "ticks": ""
            },
            "colorscale": [
             [
              0,
              "#0d0887"
             ],
             [
              0.1111111111111111,
              "#46039f"
             ],
             [
              0.2222222222222222,
              "#7201a8"
             ],
             [
              0.3333333333333333,
              "#9c179e"
             ],
             [
              0.4444444444444444,
              "#bd3786"
             ],
             [
              0.5555555555555556,
              "#d8576b"
             ],
             [
              0.6666666666666666,
              "#ed7953"
             ],
             [
              0.7777777777777778,
              "#fb9f3a"
             ],
             [
              0.8888888888888888,
              "#fdca26"
             ],
             [
              1,
              "#f0f921"
             ]
            ],
            "type": "heatmap"
           }
          ],
          "heatmapgl": [
           {
            "colorbar": {
             "outlinewidth": 0,
             "ticks": ""
            },
            "colorscale": [
             [
              0,
              "#0d0887"
             ],
             [
              0.1111111111111111,
              "#46039f"
             ],
             [
              0.2222222222222222,
              "#7201a8"
             ],
             [
              0.3333333333333333,
              "#9c179e"
             ],
             [
              0.4444444444444444,
              "#bd3786"
             ],
             [
              0.5555555555555556,
              "#d8576b"
             ],
             [
              0.6666666666666666,
              "#ed7953"
             ],
             [
              0.7777777777777778,
              "#fb9f3a"
             ],
             [
              0.8888888888888888,
              "#fdca26"
             ],
             [
              1,
              "#f0f921"
             ]
            ],
            "type": "heatmapgl"
           }
          ],
          "histogram": [
           {
            "marker": {
             "pattern": {
              "fillmode": "overlay",
              "size": 10,
              "solidity": 0.2
             }
            },
            "type": "histogram"
           }
          ],
          "histogram2d": [
           {
            "colorbar": {
             "outlinewidth": 0,
             "ticks": ""
            },
            "colorscale": [
             [
              0,
              "#0d0887"
             ],
             [
              0.1111111111111111,
              "#46039f"
             ],
             [
              0.2222222222222222,
              "#7201a8"
             ],
             [
              0.3333333333333333,
              "#9c179e"
             ],
             [
              0.4444444444444444,
              "#bd3786"
             ],
             [
              0.5555555555555556,
              "#d8576b"
             ],
             [
              0.6666666666666666,
              "#ed7953"
             ],
             [
              0.7777777777777778,
              "#fb9f3a"
             ],
             [
              0.8888888888888888,
              "#fdca26"
             ],
             [
              1,
              "#f0f921"
             ]
            ],
            "type": "histogram2d"
           }
          ],
          "histogram2dcontour": [
           {
            "colorbar": {
             "outlinewidth": 0,
             "ticks": ""
            },
            "colorscale": [
             [
              0,
              "#0d0887"
             ],
             [
              0.1111111111111111,
              "#46039f"
             ],
             [
              0.2222222222222222,
              "#7201a8"
             ],
             [
              0.3333333333333333,
              "#9c179e"
             ],
             [
              0.4444444444444444,
              "#bd3786"
             ],
             [
              0.5555555555555556,
              "#d8576b"
             ],
             [
              0.6666666666666666,
              "#ed7953"
             ],
             [
              0.7777777777777778,
              "#fb9f3a"
             ],
             [
              0.8888888888888888,
              "#fdca26"
             ],
             [
              1,
              "#f0f921"
             ]
            ],
            "type": "histogram2dcontour"
           }
          ],
          "mesh3d": [
           {
            "colorbar": {
             "outlinewidth": 0,
             "ticks": ""
            },
            "type": "mesh3d"
           }
          ],
          "parcoords": [
           {
            "line": {
             "colorbar": {
              "outlinewidth": 0,
              "ticks": ""
             }
            },
            "type": "parcoords"
           }
          ],
          "pie": [
           {
            "automargin": true,
            "type": "pie"
           }
          ],
          "scatter": [
           {
            "marker": {
             "colorbar": {
              "outlinewidth": 0,
              "ticks": ""
             }
            },
            "type": "scatter"
           }
          ],
          "scatter3d": [
           {
            "line": {
             "colorbar": {
              "outlinewidth": 0,
              "ticks": ""
             }
            },
            "marker": {
             "colorbar": {
              "outlinewidth": 0,
              "ticks": ""
             }
            },
            "type": "scatter3d"
           }
          ],
          "scattercarpet": [
           {
            "marker": {
             "colorbar": {
              "outlinewidth": 0,
              "ticks": ""
             }
            },
            "type": "scattercarpet"
           }
          ],
          "scattergeo": [
           {
            "marker": {
             "colorbar": {
              "outlinewidth": 0,
              "ticks": ""
             }
            },
            "type": "scattergeo"
           }
          ],
          "scattergl": [
           {
            "marker": {
             "colorbar": {
              "outlinewidth": 0,
              "ticks": ""
             }
            },
            "type": "scattergl"
           }
          ],
          "scattermapbox": [
           {
            "marker": {
             "colorbar": {
              "outlinewidth": 0,
              "ticks": ""
             }
            },
            "type": "scattermapbox"
           }
          ],
          "scatterpolar": [
           {
            "marker": {
             "colorbar": {
              "outlinewidth": 0,
              "ticks": ""
             }
            },
            "type": "scatterpolar"
           }
          ],
          "scatterpolargl": [
           {
            "marker": {
             "colorbar": {
              "outlinewidth": 0,
              "ticks": ""
             }
            },
            "type": "scatterpolargl"
           }
          ],
          "scatterternary": [
           {
            "marker": {
             "colorbar": {
              "outlinewidth": 0,
              "ticks": ""
             }
            },
            "type": "scatterternary"
           }
          ],
          "surface": [
           {
            "colorbar": {
             "outlinewidth": 0,
             "ticks": ""
            },
            "colorscale": [
             [
              0,
              "#0d0887"
             ],
             [
              0.1111111111111111,
              "#46039f"
             ],
             [
              0.2222222222222222,
              "#7201a8"
             ],
             [
              0.3333333333333333,
              "#9c179e"
             ],
             [
              0.4444444444444444,
              "#bd3786"
             ],
             [
              0.5555555555555556,
              "#d8576b"
             ],
             [
              0.6666666666666666,
              "#ed7953"
             ],
             [
              0.7777777777777778,
              "#fb9f3a"
             ],
             [
              0.8888888888888888,
              "#fdca26"
             ],
             [
              1,
              "#f0f921"
             ]
            ],
            "type": "surface"
           }
          ],
          "table": [
           {
            "cells": {
             "fill": {
              "color": "#EBF0F8"
             },
             "line": {
              "color": "white"
             }
            },
            "header": {
             "fill": {
              "color": "#C8D4E3"
             },
             "line": {
              "color": "white"
             }
            },
            "type": "table"
           }
          ]
         },
         "layout": {
          "annotationdefaults": {
           "arrowcolor": "#2a3f5f",
           "arrowhead": 0,
           "arrowwidth": 1
          },
          "autotypenumbers": "strict",
          "coloraxis": {
           "colorbar": {
            "outlinewidth": 0,
            "ticks": ""
           }
          },
          "colorscale": {
           "diverging": [
            [
             0,
             "#8e0152"
            ],
            [
             0.1,
             "#c51b7d"
            ],
            [
             0.2,
             "#de77ae"
            ],
            [
             0.3,
             "#f1b6da"
            ],
            [
             0.4,
             "#fde0ef"
            ],
            [
             0.5,
             "#f7f7f7"
            ],
            [
             0.6,
             "#e6f5d0"
            ],
            [
             0.7,
             "#b8e186"
            ],
            [
             0.8,
             "#7fbc41"
            ],
            [
             0.9,
             "#4d9221"
            ],
            [
             1,
             "#276419"
            ]
           ],
           "sequential": [
            [
             0,
             "#0d0887"
            ],
            [
             0.1111111111111111,
             "#46039f"
            ],
            [
             0.2222222222222222,
             "#7201a8"
            ],
            [
             0.3333333333333333,
             "#9c179e"
            ],
            [
             0.4444444444444444,
             "#bd3786"
            ],
            [
             0.5555555555555556,
             "#d8576b"
            ],
            [
             0.6666666666666666,
             "#ed7953"
            ],
            [
             0.7777777777777778,
             "#fb9f3a"
            ],
            [
             0.8888888888888888,
             "#fdca26"
            ],
            [
             1,
             "#f0f921"
            ]
           ],
           "sequentialminus": [
            [
             0,
             "#0d0887"
            ],
            [
             0.1111111111111111,
             "#46039f"
            ],
            [
             0.2222222222222222,
             "#7201a8"
            ],
            [
             0.3333333333333333,
             "#9c179e"
            ],
            [
             0.4444444444444444,
             "#bd3786"
            ],
            [
             0.5555555555555556,
             "#d8576b"
            ],
            [
             0.6666666666666666,
             "#ed7953"
            ],
            [
             0.7777777777777778,
             "#fb9f3a"
            ],
            [
             0.8888888888888888,
             "#fdca26"
            ],
            [
             1,
             "#f0f921"
            ]
           ]
          },
          "colorway": [
           "#636efa",
           "#EF553B",
           "#00cc96",
           "#ab63fa",
           "#FFA15A",
           "#19d3f3",
           "#FF6692",
           "#B6E880",
           "#FF97FF",
           "#FECB52"
          ],
          "font": {
           "color": "#2a3f5f"
          },
          "geo": {
           "bgcolor": "white",
           "lakecolor": "white",
           "landcolor": "#E5ECF6",
           "showlakes": true,
           "showland": true,
           "subunitcolor": "white"
          },
          "hoverlabel": {
           "align": "left"
          },
          "hovermode": "closest",
          "mapbox": {
           "style": "light"
          },
          "paper_bgcolor": "white",
          "plot_bgcolor": "#E5ECF6",
          "polar": {
           "angularaxis": {
            "gridcolor": "white",
            "linecolor": "white",
            "ticks": ""
           },
           "bgcolor": "#E5ECF6",
           "radialaxis": {
            "gridcolor": "white",
            "linecolor": "white",
            "ticks": ""
           }
          },
          "scene": {
           "xaxis": {
            "backgroundcolor": "#E5ECF6",
            "gridcolor": "white",
            "gridwidth": 2,
            "linecolor": "white",
            "showbackground": true,
            "ticks": "",
            "zerolinecolor": "white"
           },
           "yaxis": {
            "backgroundcolor": "#E5ECF6",
            "gridcolor": "white",
            "gridwidth": 2,
            "linecolor": "white",
            "showbackground": true,
            "ticks": "",
            "zerolinecolor": "white"
           },
           "zaxis": {
            "backgroundcolor": "#E5ECF6",
            "gridcolor": "white",
            "gridwidth": 2,
            "linecolor": "white",
            "showbackground": true,
            "ticks": "",
            "zerolinecolor": "white"
           }
          },
          "shapedefaults": {
           "line": {
            "color": "#2a3f5f"
           }
          },
          "ternary": {
           "aaxis": {
            "gridcolor": "white",
            "linecolor": "white",
            "ticks": ""
           },
           "baxis": {
            "gridcolor": "white",
            "linecolor": "white",
            "ticks": ""
           },
           "bgcolor": "#E5ECF6",
           "caxis": {
            "gridcolor": "white",
            "linecolor": "white",
            "ticks": ""
           }
          },
          "title": {
           "x": 0.05
          },
          "xaxis": {
           "automargin": true,
           "gridcolor": "white",
           "linecolor": "white",
           "ticks": "",
           "title": {
            "standoff": 15
           },
           "zerolinecolor": "white",
           "zerolinewidth": 2
          },
          "yaxis": {
           "automargin": true,
           "gridcolor": "white",
           "linecolor": "white",
           "ticks": "",
           "title": {
            "standoff": 15
           },
           "zerolinecolor": "white",
           "zerolinewidth": 2
          }
         }
        }
       }
      },
      "image/png": "[encoded data removed]",
      "text/html": [
       "<div>                            <div id=\"25ce38c0-2e73-467c-aeda-ce9b42bf3dbe\" class=\"plotly-graph-div\" style=\"height:525px; width:100%;\"></div>            <script type=\"text/javascript\">                require([\"plotly\"], function(Plotly) {                    window.PLOTLYENV=window.PLOTLYENV || {};                                    if (document.getElementById(\"25ce38c0-2e73-467c-aeda-ce9b42bf3dbe\")) {                    Plotly.newPlot(                        \"25ce38c0-2e73-467c-aeda-ce9b42bf3dbe\",                        [{\"dimensions\":[{\"label\":\"total_cases\",\"values\":[289955.0,127373.0,735180.0,7066658.0,236388.0,459436.0,1067175.0,7087110.0,2173354.0,622440.0,5005.0,5.0,19398.0,298919.0,766051.0,705474.0,172493.0,12253.0,363106.0,42898.0,11722.0,737202.0,159893.0,385721.0,50807.0,860799.0,21540.0,6099.0,3349.0,21366395.0,35889.0,648091.0,11371.0,77930.0,21374.0,1241825.0,61517.0,17484.0,363300.0,6694.0,13730.0,155076.0,208867.0,4.0,259007.0,1996214.0,6700.0,2035980.0,2490858.0,481401.0,4128.0,1149407.0,2923.0,836483.0,56862.0,150540.0,4205.0,2503710.0,33323.0,50055.0,55583.0,1696971.0,248515.0,232237.0,11231.0,1571926.0,1620537.0,187593.0,22958.0,2897521.0,29515.0,4.0,16198.0,14244.0,189999.0,820798.0,178317.0,104348.0,204752.0,8988.0,917802.0,11954.0,607155.0,1367.0,20775.0,7764.0,15189.0,4209098.0,38201.0,342305.0,43116442.0,303673.0,30364.0,326654.0,22441.0,1.0,153926.0,129919.0,2.0,5547990.0,5794.0,139678.0,400108.0,398946.0,3.0,388572.0,33697581.0,5428.0,532149.0,127016.0,27.0,3293.0,956025.0,290043.0,302327.0,19980.0,408609.0,1238358.0,178050.0,168188.0,25252.0,19523.0,16356.0,59977.0,7334843.0,96148.0,5251940.0,459828.0,14395.0,929699.0,129990.0,337890.0,495397.0,466357.0,2599.0,6393.0,5034.0,19945.0,1552563.0,14183.0,3359.0,792367.0,45812.0,37103.0,155072.0,40476.0,2903655.0,4662087.0,1872.0,7737941.0,357517.0,118181.0,73747.0,1689620.0,15165.0,821261.0,305842.0,123245.0,525999.0,1652364.0,546985.0,3445.0,411533.0,96982.0,3303.0,2209194.0,9930.0,11806.0,15391.0,109926.0,89539.0,359062.0,499202.0,202877.0,508655.0,4209403.0,1199761.0,514592.0,274877.0,37472.0,84484.0,100911.0,1270230.0,12196.0,20.0,85414.0,3635807.0,31236.0,550333.0,4951640.0,5990.0,83030.0,4952690.0]},{\"label\":\"population_density\",\"values\":[150.777,143.701,69.413,22.662,295.15,47.237,21.841,null,64.699,212.865,21.188,231.845,98.567,19347.5,212.841,281.787,237.012,437.352,18.206,317.132,11.833,556.667,49.127,16.955,66.191,104.7,44.304,81.347,664.463,53.508,207.566,293.187,7.479,3.404,45.194,null,7039.714,41.285,51.667,70.151,15.405,73.562,15.196,163.755,622.962,null,423.062,64.281,87.176,18.22,16.426,23.5,39.497,208.354,398.448,29.715,99.11,143.366,7.859,51.755,3.952,null,4.289,1454.037,135.58,23.258,3.612,43.951,79.492,266.886,49.562,23.89,35.879,76.399,197.519,82.328,231.447,266.879,1454.433,50.885,7915.731,147.674,494.869,3.202,307.811,90.672,127.657,213.759,126.719,3.078,42.729,46.28,18.136,37.728,31.033,54.422,31.212,168.155,104.871,76.134,4.044,32.333,14.462,82.6,17.348,209.588,22.995,68.496,227.322,87.324,102.931,1935.907,102.619,123.655,1.98,97.999,14.98,527.967,45.135,3.623,104.957,222.873,136.52,82.805,36.253,69.874,19.751,778.202,73.726,113.128,232.128,81.721,17.144,55.133,119.309,65.18,10.202,66.939,341.955,96.079,46.858,15.322,157.834,65.032,594.561,83.479,74.228,112.442,106.749,308.127,204.43,109.285,108.043,214.243,110.408,80.291,80.08,6.681,112.371,24.718,85.129,375.564,255.573,402.606,1265.036,135.132,4.037,24.282,137.176,347.778,88.125,508.544,25.129,96.254,351.873,77.39,46.754,124.027,66.444,237.016,145.725,205.859,93.105,44.223,16.177,49.831,104.914,122.578,8.823,272.898,25.04,450.419,35.608]},{\"label\":\"gdp_per_capita\",\"values\":[3299.464,1981.132,6021.557,2921.909,3819.202,13240.405,2205.923,null,2683.304,24654.385,8708.597,21490.943,9673.367,null,3052.714,10727.146,null,1413.89,36085.843,13593.877,1768.153,56861.47,752.788,926.0,1548.675,1390.3,1510.459,71809.251,16978.068,1479.147,1561.767,12951.839,661.24,46482.958,22604.873,1569.888,56054.92,2705.406,5321.444,1703.102,4881.406,2851.153,2014.306,null,20292.745,null,702.225,2896.913,6570.102,3823.194,7824.362,null,27717.847,26382.287,1653.173,6397.36,2064.236,1429.813,16562.413,1998.926,7435.047,null,3597.633,36513.323,6222.554,4466.507,13767.119,1416.44,7738.975,28763.071,8702.975,5819.495,808.133,3601.006,1095.042,2470.58,94277.965,8193.571,15183.616,3364.926,85535.383,15308.712,1854.211,44648.71,7292.458,3645.07,32415.132,1697.707,4227.63,9541.808,1899.775,16409.288,40585.721,1136.103,29481.252,1803.987,25063.846,9795.834,11803.431,6253.104,15807.374,3393.474,64800.057,13111.214,13913.839,5338.454,3689.251,11713.895,116935.6,2993.028,8787.58,43290.705,31400.84,5189.972,11840.846,10550.206,37960.709,35938.374,29524.265,17881.509,1729.927,14600.861,46682.515,4541.795,16745.022,67335.293,20551.409,4449.898,22669.797,30155.152,65530.537,5591.597,8827.01,22267.037,15847.419,18563.307,6885.829,10581.936,11669.077,15524.995,17167.967,49045.411,7423.808,9745.079,13367.565,24574.382,10849.297,67293.483,45436.686,6171.884,2442.804,8337.49,26777.561,57410.166,null,14048.881,7485.013,24055.588,27936.896,46949.283,23313.199,42658.576,5034.708,33132.32,3523.984,16277.671,44017.591,22767.037,32605.906,39002.223,15663.986,48472.545,12236.706,26808.164,7599.188,7894.393,12294.876,27216.445,17336.469,45229.245,11188.744,35220.084,34272.36,13254.949,18933.907,19082.62,25129.341,38605.671,24765.954,39753.244,14103.452,6426.674,54225.446]}],\"domain\":{\"x\":[0.0,1.0],\"y\":[0.0,1.0]},\"line\":{\"color\":[289955.0,127373.0,735180.0,7066658.0,236388.0,459436.0,1067175.0,7087110.0,2173354.0,622440.0,5005.0,5.0,19398.0,298919.0,766051.0,705474.0,172493.0,12253.0,363106.0,42898.0,11722.0,737202.0,159893.0,385721.0,50807.0,860799.0,21540.0,6099.0,3349.0,21366395.0,35889.0,648091.0,11371.0,77930.0,21374.0,1241825.0,61517.0,17484.0,363300.0,6694.0,13730.0,155076.0,208867.0,4.0,259007.0,1996214.0,6700.0,2035980.0,2490858.0,481401.0,4128.0,1149407.0,2923.0,836483.0,56862.0,150540.0,4205.0,2503710.0,33323.0,50055.0,55583.0,1696971.0,248515.0,232237.0,11231.0,1571926.0,1620537.0,187593.0,22958.0,2897521.0,29515.0,4.0,16198.0,14244.0,189999.0,820798.0,178317.0,104348.0,204752.0,8988.0,917802.0,11954.0,607155.0,1367.0,20775.0,7764.0,15189.0,4209098.0,38201.0,342305.0,43116442.0,303673.0,30364.0,326654.0,22441.0,1.0,153926.0,129919.0,2.0,5547990.0,5794.0,139678.0,400108.0,398946.0,3.0,388572.0,33697581.0,5428.0,532149.0,127016.0,27.0,3293.0,956025.0,290043.0,302327.0,19980.0,408609.0,1238358.0,178050.0,168188.0,25252.0,19523.0,16356.0,59977.0,7334843.0,96148.0,5251940.0,459828.0,14395.0,929699.0,129990.0,337890.0,495397.0,466357.0,2599.0,6393.0,5034.0,19945.0,1552563.0,14183.0,3359.0,792367.0,45812.0,37103.0,155072.0,40476.0,2903655.0,4662087.0,1872.0,7737941.0,357517.0,118181.0,73747.0,1689620.0,15165.0,821261.0,305842.0,123245.0,525999.0,1652364.0,546985.0,3445.0,411533.0,96982.0,3303.0,2209194.0,9930.0,11806.0,15391.0,109926.0,89539.0,359062.0,499202.0,202877.0,508655.0,4209403.0,1199761.0,514592.0,274877.0,37472.0,84484.0,100911.0,1270230.0,12196.0,20.0,85414.0,3635807.0,31236.0,550333.0,4951640.0,5990.0,83030.0,4952690.0],\"coloraxis\":\"coloraxis\"},\"name\":\"\",\"type\":\"parcoords\"}],                        {\"coloraxis\":{\"colorbar\":{\"title\":{\"text\":\"total_cases\"}},\"colorscale\":[[0.0,\"#0d0887\"],[0.1111111111111111,\"#46039f\"],[0.2222222222222222,\"#7201a8\"],[0.3333333333333333,\"#9c179e\"],[0.4444444444444444,\"#bd3786\"],[0.5555555555555556,\"#d8576b\"],[0.6666666666666666,\"#ed7953\"],[0.7777777777777778,\"#fb9f3a\"],[0.8888888888888888,\"#fdca26\"],[1.0,\"#f0f921\"]]},\"legend\":{\"tracegroupgap\":0},\"margin\":{\"t\":60},\"template\":{\"data\":{\"bar\":[{\"error_x\":{\"color\":\"#2a3f5f\"},\"error_y\":{\"color\":\"#2a3f5f\"},\"marker\":{\"line\":{\"color\":\"#E5ECF6\",\"width\":0.5},\"pattern\":{\"fillmode\":\"overlay\",\"size\":10,\"solidity\":0.2}},\"type\":\"bar\"}],\"barpolar\":[{\"marker\":{\"line\":{\"color\":\"#E5ECF6\",\"width\":0.5},\"pattern\":{\"fillmode\":\"overlay\",\"size\":10,\"solidity\":0.2}},\"type\":\"barpolar\"}],\"carpet\":[{\"aaxis\":{\"endlinecolor\":\"#2a3f5f\",\"gridcolor\":\"white\",\"linecolor\":\"white\",\"minorgridcolor\":\"white\",\"startlinecolor\":\"#2a3f5f\"},\"baxis\":{\"endlinecolor\":\"#2a3f5f\",\"gridcolor\":\"white\",\"linecolor\":\"white\",\"minorgridcolor\":\"white\",\"startlinecolor\":\"#2a3f5f\"},\"type\":\"carpet\"}],\"choropleth\":[{\"colorbar\":{\"outlinewidth\":0,\"ticks\":\"\"},\"type\":\"choropleth\"}],\"contour\":[{\"colorbar\":{\"outlinewidth\":0,\"ticks\":\"\"},\"colorscale\":[[0.0,\"#0d0887\"],[0.1111111111111111,\"#46039f\"],[0.2222222222222222,\"#7201a8\"],[0.3333333333333333,\"#9c179e\"],[0.4444444444444444,\"#bd3786\"],[0.5555555555555556,\"#d8576b\"],[0.6666666666666666,\"#ed7953\"],[0.7777777777777778,\"#fb9f3a\"],[0.8888888888888888,\"#fdca26\"],[1.0,\"#f0f921\"]],\"type\":\"contour\"}],\"contourcarpet\":[{\"colorbar\":{\"outlinewidth\":0,\"ticks\":\"\"},\"type\":\"contourcarpet\"}],\"heatmap\":[{\"colorbar\":{\"outlinewidth\":0,\"ticks\":\"\"},\"colorscale\":[[0.0,\"#0d0887\"],[0.1111111111111111,\"#46039f\"],[0.2222222222222222,\"#7201a8\"],[0.3333333333333333,\"#9c179e\"],[0.4444444444444444,\"#bd3786\"],[0.5555555555555556,\"#d8576b\"],[0.6666666666666666,\"#ed7953\"],[0.7777777777777778,\"#fb9f3a\"],[0.8888888888888888,\"#fdca26\"],[1.0,\"#f0f921\"]],\"type\":\"heatmap\"}],\"heatmapgl\":[{\"colorbar\":{\"outlinewidth\":0,\"ticks\":\"\"},\"colorscale\":[[0.0,\"#0d0887\"],[0.1111111111111111,\"#46039f\"],[0.2222222222222222,\"#7201a8\"],[0.3333333333333333,\"#9c179e\"],[0.4444444444444444,\"#bd3786\"],[0.5555555555555556,\"#d8576b\"],[0.6666666666666666,\"#ed7953\"],[0.7777777777777778,\"#fb9f3a\"],[0.8888888888888888,\"#fdca26\"],[1.0,\"#f0f921\"]],\"type\":\"heatmapgl\"}],\"histogram\":[{\"marker\":{\"pattern\":{\"fillmode\":\"overlay\",\"size\":10,\"solidity\":0.2}},\"type\":\"histogram\"}],\"histogram2d\":[{\"colorbar\":{\"outlinewidth\":0,\"ticks\":\"\"},\"colorscale\":[[0.0,\"#0d0887\"],[0.1111111111111111,\"#46039f\"],[0.2222222222222222,\"#7201a8\"],[0.3333333333333333,\"#9c179e\"],[0.4444444444444444,\"#bd3786\"],[0.5555555555555556,\"#d8576b\"],[0.6666666666666666,\"#ed7953\"],[0.7777777777777778,\"#fb9f3a\"],[0.8888888888888888,\"#fdca26\"],[1.0,\"#f0f921\"]],\"type\":\"histogram2d\"}],\"histogram2dcontour\":[{\"colorbar\":{\"outlinewidth\":0,\"ticks\":\"\"},\"colorscale\":[[0.0,\"#0d0887\"],[0.1111111111111111,\"#46039f\"],[0.2222222222222222,\"#7201a8\"],[0.3333333333333333,\"#9c179e\"],[0.4444444444444444,\"#bd3786\"],[0.5555555555555556,\"#d8576b\"],[0.6666666666666666,\"#ed7953\"],[0.7777777777777778,\"#fb9f3a\"],[0.8888888888888888,\"#fdca26\"],[1.0,\"#f0f921\"]],\"type\":\"histogram2dcontour\"}],\"mesh3d\":[{\"colorbar\":{\"outlinewidth\":0,\"ticks\":\"\"},\"type\":\"mesh3d\"}],\"parcoords\":[{\"line\":{\"colorbar\":{\"outlinewidth\":0,\"ticks\":\"\"}},\"type\":\"parcoords\"}],\"pie\":[{\"automargin\":true,\"type\":\"pie\"}],\"scatter\":[{\"marker\":{\"colorbar\":{\"outlinewidth\":0,\"ticks\":\"\"}},\"type\":\"scatter\"}],\"scatter3d\":[{\"line\":{\"colorbar\":{\"outlinewidth\":0,\"ticks\":\"\"}},\"marker\":{\"colorbar\":{\"outlinewidth\":0,\"ticks\":\"\"}},\"type\":\"scatter3d\"}],\"scattercarpet\":[{\"marker\":{\"colorbar\":{\"outlinewidth\":0,\"ticks\":\"\"}},\"type\":\"scattercarpet\"}],\"scattergeo\":[{\"marker\":{\"colorbar\":{\"outlinewidth\":0,\"ticks\":\"\"}},\"type\":\"scattergeo\"}],\"scattergl\":[{\"marker\":{\"colorbar\":{\"outlinewidth\":0,\"ticks\":\"\"}},\"type\":\"scattergl\"}],\"scattermapbox\":[{\"marker\":{\"colorbar\":{\"outlinewidth\":0,\"ticks\":\"\"}},\"type\":\"scattermapbox\"}],\"scatterpolar\":[{\"marker\":{\"colorbar\":{\"outlinewidth\":0,\"ticks\":\"\"}},\"type\":\"scatterpolar\"}],\"scatterpolargl\":[{\"marker\":{\"colorbar\":{\"outlinewidth\":0,\"ticks\":\"\"}},\"type\":\"scatterpolargl\"}],\"scatterternary\":[{\"marker\":{\"colorbar\":{\"outlinewidth\":0,\"ticks\":\"\"}},\"type\":\"scatterternary\"}],\"surface\":[{\"colorbar\":{\"outlinewidth\":0,\"ticks\":\"\"},\"colorscale\":[[0.0,\"#0d0887\"],[0.1111111111111111,\"#46039f\"],[0.2222222222222222,\"#7201a8\"],[0.3333333333333333,\"#9c179e\"],[0.4444444444444444,\"#bd3786\"],[0.5555555555555556,\"#d8576b\"],[0.6666666666666666,\"#ed7953\"],[0.7777777777777778,\"#fb9f3a\"],[0.8888888888888888,\"#fdca26\"],[1.0,\"#f0f921\"]],\"type\":\"surface\"}],\"table\":[{\"cells\":{\"fill\":{\"color\":\"#EBF0F8\"},\"line\":{\"color\":\"white\"}},\"header\":{\"fill\":{\"color\":\"#C8D4E3\"},\"line\":{\"color\":\"white\"}},\"type\":\"table\"}]},\"layout\":{\"annotationdefaults\":{\"arrowcolor\":\"#2a3f5f\",\"arrowhead\":0,\"arrowwidth\":1},\"autotypenumbers\":\"strict\",\"coloraxis\":{\"colorbar\":{\"outlinewidth\":0,\"ticks\":\"\"}},\"colorscale\":{\"diverging\":[[0,\"#8e0152\"],[0.1,\"#c51b7d\"],[0.2,\"#de77ae\"],[0.3,\"#f1b6da\"],[0.4,\"#fde0ef\"],[0.5,\"#f7f7f7\"],[0.6,\"#e6f5d0\"],[0.7,\"#b8e186\"],[0.8,\"#7fbc41\"],[0.9,\"#4d9221\"],[1,\"#276419\"]],\"sequential\":[[0.0,\"#0d0887\"],[0.1111111111111111,\"#46039f\"],[0.2222222222222222,\"#7201a8\"],[0.3333333333333333,\"#9c179e\"],[0.4444444444444444,\"#bd3786\"],[0.5555555555555556,\"#d8576b\"],[0.6666666666666666,\"#ed7953\"],[0.7777777777777778,\"#fb9f3a\"],[0.8888888888888888,\"#fdca26\"],[1.0,\"#f0f921\"]],\"sequentialminus\":[[0.0,\"#0d0887\"],[0.1111111111111111,\"#46039f\"],[0.2222222222222222,\"#7201a8\"],[0.3333333333333333,\"#9c179e\"],[0.4444444444444444,\"#bd3786\"],[0.5555555555555556,\"#d8576b\"],[0.6666666666666666,\"#ed7953\"],[0.7777777777777778,\"#fb9f3a\"],[0.8888888888888888,\"#fdca26\"],[1.0,\"#f0f921\"]]},\"colorway\":[\"#636efa\",\"#EF553B\",\"#00cc96\",\"#ab63fa\",\"#FFA15A\",\"#19d3f3\",\"#FF6692\",\"#B6E880\",\"#FF97FF\",\"#FECB52\"],\"font\":{\"color\":\"#2a3f5f\"},\"geo\":{\"bgcolor\":\"white\",\"lakecolor\":\"white\",\"landcolor\":\"#E5ECF6\",\"showlakes\":true,\"showland\":true,\"subunitcolor\":\"white\"},\"hoverlabel\":{\"align\":\"left\"},\"hovermode\":\"closest\",\"mapbox\":{\"style\":\"light\"},\"paper_bgcolor\":\"white\",\"plot_bgcolor\":\"#E5ECF6\",\"polar\":{\"angularaxis\":{\"gridcolor\":\"white\",\"linecolor\":\"white\",\"ticks\":\"\"},\"bgcolor\":\"#E5ECF6\",\"radialaxis\":{\"gridcolor\":\"white\",\"linecolor\":\"white\",\"ticks\":\"\"}},\"scene\":{\"xaxis\":{\"backgroundcolor\":\"#E5ECF6\",\"gridcolor\":\"white\",\"gridwidth\":2,\"linecolor\":\"white\",\"showbackground\":true,\"ticks\":\"\",\"zerolinecolor\":\"white\"},\"yaxis\":{\"backgroundcolor\":\"#E5ECF6\",\"gridcolor\":\"white\",\"gridwidth\":2,\"linecolor\":\"white\",\"showbackground\":true,\"ticks\":\"\",\"zerolinecolor\":\"white\"},\"zaxis\":{\"backgroundcolor\":\"#E5ECF6\",\"gridcolor\":\"white\",\"gridwidth\":2,\"linecolor\":\"white\",\"showbackground\":true,\"ticks\":\"\",\"zerolinecolor\":\"white\"}},\"shapedefaults\":{\"line\":{\"color\":\"#2a3f5f\"}},\"ternary\":{\"aaxis\":{\"gridcolor\":\"white\",\"linecolor\":\"white\",\"ticks\":\"\"},\"baxis\":{\"gridcolor\":\"white\",\"linecolor\":\"white\",\"ticks\":\"\"},\"bgcolor\":\"#E5ECF6\",\"caxis\":{\"gridcolor\":\"white\",\"linecolor\":\"white\",\"ticks\":\"\"}},\"title\":{\"x\":0.05},\"xaxis\":{\"automargin\":true,\"gridcolor\":\"white\",\"linecolor\":\"white\",\"ticks\":\"\",\"title\":{\"standoff\":15},\"zerolinecolor\":\"white\",\"zerolinewidth\":2},\"yaxis\":{\"automargin\":true,\"gridcolor\":\"white\",\"linecolor\":\"white\",\"ticks\":\"\",\"title\":{\"standoff\":15},\"zerolinecolor\":\"white\",\"zerolinewidth\":2}}}},                        {\"responsive\": true}                    ).then(function(){\n",
       "                            \n",
       "var gd = document.getElementById('25ce38c0-2e73-467c-aeda-ce9b42bf3dbe');\n",
       "var x = new MutationObserver(function (mutations, observer) {{\n",
       "        var display = window.getComputedStyle(gd).display;\n",
       "        if (!display || display === 'none') {{\n",
       "            console.log([gd, 'removed!']);\n",
       "            Plotly.purge(gd);\n",
       "            observer.disconnect();\n",
       "        }}\n",
       "}});\n",
       "\n",
       "// Listen for the removal of the full notebook cells\n",
       "var notebookContainer = gd.closest('#notebook-container');\n",
       "if (notebookContainer) {{\n",
       "    x.observe(notebookContainer, {childList: true});\n",
       "}}\n",
       "\n",
       "// Listen for the clearing of the current output cell\n",
       "var outputEl = gd.closest('.output');\n",
       "if (outputEl) {{\n",
       "    x.observe(outputEl, {childList: true});\n",
       "}}\n",
       "\n",
       "                        })                };                });            </script>        </div>"
      ]
     },
     "metadata": {},
     "output_type": "display_data"
    }
   ],
   "source": [
    "px.parallel_coordinates(continent, color = 'total_cases')"
   ]
  }
 ],
 "metadata": {
  "kernelspec": {
   "display_name": "Python [conda env:pyvizenv]",
   "language": "python",
   "name": "conda-env-pyvizenv-py"
  },
  "language_info": {
   "codemirror_mode": {
    "name": "ipython",
    "version": 3
   },
   "file_extension": ".py",
   "mimetype": "text/x-python",
   "name": "python",
   "nbconvert_exporter": "python",
   "pygments_lexer": "ipython3",
   "version": "3.7.10"
  }
 },
 "nbformat": 4,
 "nbformat_minor": 4
}
